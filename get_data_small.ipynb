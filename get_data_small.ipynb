{
 "cells": [
  {
   "cell_type": "code",
   "execution_count": 1,
   "id": "c97a339c",
   "metadata": {
    "pycharm": {
     "name": "#%%\n"
    }
   },
   "outputs": [
    {
     "name": "stderr",
     "output_type": "stream",
     "text": [
      "C:\\Users\\Amelia\\miniconda3\\lib\\site-packages\\pymatgen\\analysis\\phase_diagram.py:24: TqdmExperimentalWarning: Using `tqdm.autonotebook.tqdm` in notebook mode. Use `tqdm.tqdm` instead to force console mode (e.g. in jupyter console)\n",
      "  from tqdm.autonotebook import tqdm\n"
     ]
    }
   ],
   "source": [
    "from pymatgen.ext.matproj import MPRester\n",
    "import numpy as np\n",
    "import pandas as pd\n",
    "import scipy.constants\n",
    "import math"
   ]
  },
  {
   "cell_type": "markdown",
   "source": [
    "Import The Materials Porject API key"
   ],
   "metadata": {
    "collapsed": false,
    "pycharm": {
     "name": "#%% md\n"
    }
   }
  },
  {
   "cell_type": "code",
   "execution_count": 2,
   "id": "2a3cbea5",
   "metadata": {
    "pycharm": {
     "name": "#%%\n"
    }
   },
   "outputs": [],
   "source": [
    "with open('key.txt') as f:\n",
    "    key = f.readlines()\n",
    "    key = key[0]"
   ]
  },
  {
   "cell_type": "code",
   "execution_count": 3,
   "id": "65c51a88",
   "metadata": {
    "pycharm": {
     "name": "#%%\n"
    }
   },
   "outputs": [
    {
     "name": "stderr",
     "output_type": "stream",
     "text": [
      "C:\\Users\\Amelia\\miniconda3\\lib\\site-packages\\pymatgen\\ext\\matproj.py:179: UserWarning: You are using the legacy MPRester, which is deprecated. If you are not a power user, ie., you do not have a lot of legacy code that uses many different MPRester methods, it is recommended you get a new API key from the new Materials Project front end. Once you use get your new API key, using the new API key will automatically route you to using the new MPRester.\n",
      "  warnings.warn(\n"
     ]
    }
   ],
   "source": [
    "mpr = MPRester(key)"
   ]
  },
  {
   "cell_type": "markdown",
   "source": [
    "Query data from The Materials Project with species contain Li and phonon data"
   ],
   "metadata": {
    "collapsed": false,
    "pycharm": {
     "name": "#%% md\n"
    }
   }
  },
  {
   "cell_type": "code",
   "execution_count": 4,
   "id": "e4603b5a",
   "metadata": {
    "pycharm": {
     "name": "#%%\n"
    }
   },
   "outputs": [],
   "source": [
    "data = mpr.query(\n",
    "    criteria = {\"has\": \"phonons\",\"elements\": {\"$all\": [\"Li\"]}},\n",
    "    properties = [\"task_id\", \"pretty_formula\"],\n",
    ")"
   ]
  },
  {
   "cell_type": "code",
   "execution_count": 5,
   "id": "75a59930",
   "metadata": {
    "pycharm": {
     "name": "#%%\n"
    }
   },
   "outputs": [],
   "source": [
    "data = pd.DataFrame(data)"
   ]
  },
  {
   "cell_type": "markdown",
   "source": [
    "Extract a Li key for filtering Li pdos from an example species"
   ],
   "metadata": {
    "collapsed": false,
    "pycharm": {
     "name": "#%% md\n"
    }
   }
  },
  {
   "cell_type": "code",
   "execution_count": 6,
   "id": "5c0b4855",
   "metadata": {
    "pycharm": {
     "name": "#%%\n"
    }
   },
   "outputs": [],
   "source": [
    "LiYS2_dos=mpr.get_phonon_dos_by_material_id('mp-15788')\n",
    "Li_dos_LiYS2 = LiYS2_dos.get_element_dos()\n",
    "Li_key = [*Li_dos_LiYS2.keys()][0]"
   ]
  },
  {
   "cell_type": "code",
   "execution_count": 7,
   "id": "8cb4028d",
   "metadata": {
    "pycharm": {
     "name": "#%%\n"
    }
   },
   "outputs": [],
   "source": [
    "def get_fav (task_id):\n",
    "    '''Get a temperature independent phonon band centre value'''\n",
    "    t_dos_obj = mpr.get_phonon_dos_by_material_id ( task_id )\n",
    "    el_dos_obj = t_dos_obj.get_element_dos()\n",
    "    Li_dos_obj = el_dos_obj [Li_key]\n",
    "    Li_f = Li_dos_obj.frequencies \n",
    "    Li_d = Li_dos_obj.densities\n",
    "    fav_elements = Li_f * Li_d\n",
    "    fav = np.sum(fav_elements)\n",
    "    norm = np.sum(Li_d)\n",
    "    fav = fav / norm\n",
    "    return fav"
   ]
  },
  {
   "cell_type": "code",
   "execution_count": 8,
   "id": "c92f939a",
   "metadata": {
    "pycharm": {
     "name": "#%%\n"
    }
   },
   "outputs": [],
   "source": [
    "k = scipy.constants.k\n",
    "hbar = scipy.constants.hbar\n",
    "\n",
    "def get_favT (task_id, Tmin, Tmax, Tstep):\n",
    "    '''Get a list of temperature dependent phonon band centre values or a single value at a given T'''\n",
    "    favT = []\n",
    "    \n",
    "    if ((Tmin != None) and (Tmax == None) and (Tstep == None)):\n",
    "        Temperature = [Tmin] \n",
    "    elif ((Tmin != None) and (Tmax != None) and (Tstep != None)):\n",
    "        Temperature = [*range(Tmin, Tmax, Tstep)]\n",
    "    else:\n",
    "        print(\"Tmin is expected as a value, Tmax and Tstep could be None\")\n",
    "        Temperature = None\n",
    "        \n",
    "    t_dos_obj = mpr.get_phonon_dos_by_material_id ( task_id )\n",
    "    el_dos_obj = t_dos_obj.get_element_dos()\n",
    "    Li_dos_obj = el_dos_obj [Li_key]\n",
    "    Li_f = Li_dos_obj.frequencies \n",
    "    Li_d = Li_dos_obj.densities   \n",
    "        \n",
    "    for T in Temperature:\n",
    "        ph_numbers = []\n",
    "        beta = 1/(k*T)\n",
    "        for frequency in Li_f:\n",
    "            if frequency < 0:\n",
    "                ph_numbers.append(1)\n",
    "                \n",
    "            else:\n",
    "                energy = frequency * hbar * 10 ** 12\n",
    "                denominator = math.exp(energy*beta) - 1\n",
    "                ph_number = 1/denominator\n",
    "                ph_numbers.append(ph_number)\n",
    "                \n",
    "        \n",
    "        fav_elements = Li_f * Li_d * ph_numbers\n",
    "        norm_elements = Li_d * ph_numbers\n",
    "        \n",
    "        fav = np.sum(fav_elements)\n",
    "        norm = np.sum(norm_elements)\n",
    "        fav = fav / norm\n",
    "        favT.append(fav)\n",
    "        \n",
    "    return favT"
   ]
  },
  {
   "cell_type": "markdown",
   "source": [
    "Create a temp dataframe for calling materials id"
   ],
   "metadata": {
    "collapsed": false,
    "pycharm": {
     "name": "#%% md\n"
    }
   }
  },
  {
   "cell_type": "code",
   "execution_count": 9,
   "outputs": [],
   "source": [
    "temp = data.copy()"
   ],
   "metadata": {
    "collapsed": false,
    "pycharm": {
     "name": "#%%\n"
    }
   }
  },
  {
   "cell_type": "markdown",
   "source": [
    "Create an empty column for temperature independent phonon band centre"
   ],
   "metadata": {
    "collapsed": false,
    "pycharm": {
     "name": "#%% md\n"
    }
   }
  },
  {
   "cell_type": "code",
   "execution_count": 10,
   "outputs": [],
   "source": [
    "data['fav'] = np.nan"
   ],
   "metadata": {
    "collapsed": false,
    "pycharm": {
     "name": "#%%\n"
    }
   }
  },
  {
   "cell_type": "markdown",
   "source": [
    "Calculate all temperature independent phonon band centres and write it in the dataframe, data is the dataframe query from The Materials Project with materials id in it"
   ],
   "metadata": {
    "collapsed": false,
    "pycharm": {
     "name": "#%% md\n"
    }
   }
  },
  {
   "cell_type": "code",
   "execution_count": 11,
   "outputs": [
    {
     "name": "stderr",
     "output_type": "stream",
     "text": [
      "C:\\Users\\Amelia\\AppData\\Local\\Temp\\ipykernel_4780\\3421046949.py:4: SettingWithCopyWarning: \n",
      "A value is trying to be set on a copy of a slice from a DataFrame\n",
      "\n",
      "See the caveats in the documentation: https://pandas.pydata.org/pandas-docs/stable/user_guide/indexing.html#returning-a-view-versus-a-copy\n",
      "  data['fav'][i] = fav\n"
     ]
    }
   ],
   "source": [
    "index = [*range (0, data.index[-1]+1)]\n",
    "for i in index:\n",
    "    fav = get_fav(temp['task_id'][i])\n",
    "    data['fav'][i] = fav"
   ],
   "metadata": {
    "collapsed": false,
    "pycharm": {
     "name": "#%%\n"
    }
   }
  },
  {
   "cell_type": "markdown",
   "source": [
    "Calculate temperature dependent phonon band centres and write it in the dataframe, examples for single room temperature value and a selected temperature range"
   ],
   "metadata": {
    "collapsed": false,
    "pycharm": {
     "name": "#%% md\n"
    }
   }
  },
  {
   "cell_type": "code",
   "execution_count": 12,
   "outputs": [],
   "source": [
    "Tmin = 298\n",
    "Tmax = None\n",
    "Tstep = None\n",
    "\n",
    "if ((Tmin != None) and (Tmax == None) and (Tstep == None)):\n",
    "    Temperature = [Tmin] \n",
    "elif ((Tmin != None) and (Tmax != None) and (Tstep != None)):\n",
    "    Temperature = [*range(Tmin, Tmax, Tstep)]\n",
    "else:\n",
    "    print(\"Tmin is expected as a value, Tmax and Tstep could be None\")\n",
    "    Temperature = None\n",
    "\n",
    "    \n",
    "index = [*range (0, data.index[-1]+1)]\n",
    "T_val = pd.DataFrame(columns = Temperature)\n",
    "for i in index:\n",
    "    favT = get_favT(temp['task_id'][i], Tmin, Tmax, Tstep)\n",
    "    T_val.loc[i] = favT\n",
    "    \n",
    "data = pd.concat([data, T_val], axis = 1)"
   ],
   "metadata": {
    "collapsed": false,
    "pycharm": {
     "name": "#%%\n"
    }
   }
  },
  {
   "cell_type": "code",
   "execution_count": 13,
   "outputs": [],
   "source": [
    "Tmin = 400\n",
    "Tmax = 1000\n",
    "Tstep = 100\n",
    "\n",
    "if ((Tmin != None) and (Tmax == None) and (Tstep == None)):\n",
    "    Temperature = [Tmin] \n",
    "elif ((Tmin != None) and (Tmax != None) and (Tstep != None)):\n",
    "    Temperature = [*range(Tmin, Tmax, Tstep)]\n",
    "else:\n",
    "    print(\"Tmin is expected as a value, Tmax and Tstep could be None\")\n",
    "    Temperature = None\n",
    "\n",
    "    \n",
    "index = [*range (0, data.index[-1]+1)]\n",
    "T_val = pd.DataFrame(columns = Temperature)\n",
    "for i in index:\n",
    "    favT = get_favT(temp['task_id'][i], Tmin, Tmax, Tstep)\n",
    "    T_val.loc[i] = favT\n",
    "    \n",
    "data = pd.concat([data, T_val], axis = 1)\n"
   ],
   "metadata": {
    "collapsed": false,
    "pycharm": {
     "name": "#%%\n"
    }
   }
  },
  {
   "cell_type": "markdown",
   "source": [
    "First frequency that has non-zero Li DOS"
   ],
   "metadata": {
    "collapsed": false,
    "pycharm": {
     "name": "#%% md\n"
    }
   }
  },
  {
   "cell_type": "markdown",
   "source": [
    "(i) ignore imaginary"
   ],
   "metadata": {
    "collapsed": false,
    "pycharm": {
     "name": "#%% md\n"
    }
   }
  },
  {
   "cell_type": "code",
   "execution_count": 14,
   "outputs": [],
   "source": [
    "def first_f_i (task_id):\n",
    "    '''get first frequency that has non-zero Li DOS and non-imaginary '''\n",
    "    t_dos_obj = mpr.get_phonon_dos_by_material_id ( task_id )\n",
    "    el_dos_obj = t_dos_obj.get_element_dos()\n",
    "    Li_dos_obj = el_dos_obj [Li_key]\n",
    "    Li_f = Li_dos_obj.frequencies \n",
    "    Li_d = Li_dos_obj.densities\n",
    "    df = pd.DataFrame({'Li_f': Li_f, 'Li_d': Li_d})\n",
    "    df = df[(df['Li_d'] > 0)&(df['Li_f']> 0)]\n",
    "    df = df.reset_index()\n",
    "    f = df.loc[0,'Li_f']\n",
    "    return f"
   ],
   "metadata": {
    "collapsed": false,
    "pycharm": {
     "name": "#%%\n"
    }
   }
  },
  {
   "cell_type": "markdown",
   "source": [
    "(ii) take the absolute value "
   ],
   "metadata": {
    "collapsed": false,
    "pycharm": {
     "name": "#%% md\n"
    }
   }
  },
  {
   "cell_type": "code",
   "execution_count": 15,
   "outputs": [],
   "source": [
    "def first_f_a (task_id):\n",
    "    '''get first frequency (absolute) that has non-zero Li DOS'''\n",
    "    t_dos_obj = mpr.get_phonon_dos_by_material_id ( task_id )\n",
    "    el_dos_obj = t_dos_obj.get_element_dos()\n",
    "    Li_dos_obj = el_dos_obj [Li_key]\n",
    "    Li_f = Li_dos_obj.frequencies \n",
    "    Li_d = Li_dos_obj.densities\n",
    "    Li_f = abs(Li_f)\n",
    "    key = np.nonzero(Li_d)[0][0]\n",
    "    f = Li_f[key]\n",
    "    return f"
   ],
   "metadata": {
    "collapsed": false,
    "pycharm": {
     "name": "#%%\n"
    }
   }
  },
  {
   "cell_type": "markdown",
   "source": [
    "Create an empty column"
   ],
   "metadata": {
    "collapsed": false,
    "pycharm": {
     "name": "#%% md\n"
    }
   }
  },
  {
   "cell_type": "code",
   "execution_count": 16,
   "outputs": [],
   "source": [
    "data['first_f_a'] = np.nan"
   ],
   "metadata": {
    "collapsed": false,
    "pycharm": {
     "name": "#%%\n"
    }
   }
  },
  {
   "cell_type": "markdown",
   "source": [
    "Example for getting the data"
   ],
   "metadata": {
    "collapsed": false,
    "pycharm": {
     "name": "#%% md\n"
    }
   }
  },
  {
   "cell_type": "code",
   "execution_count": 17,
   "outputs": [
    {
     "name": "stderr",
     "output_type": "stream",
     "text": [
      "C:\\Users\\Amelia\\AppData\\Local\\Temp\\ipykernel_4780\\3049303763.py:4: SettingWithCopyWarning: \n",
      "A value is trying to be set on a copy of a slice from a DataFrame\n",
      "\n",
      "See the caveats in the documentation: https://pandas.pydata.org/pandas-docs/stable/user_guide/indexing.html#returning-a-view-versus-a-copy\n",
      "  data['first_f_a'][i] = f\n"
     ]
    }
   ],
   "source": [
    "index = [*range (0, data.index[-1]+1)]\n",
    "for i in index:\n",
    "    f = first_f_a(temp['task_id'][i])\n",
    "    data['first_f_a'][i] = f"
   ],
   "metadata": {
    "collapsed": false,
    "pycharm": {
     "name": "#%%\n"
    }
   }
  },
  {
   "cell_type": "markdown",
   "source": [
    " Li DOS width relative to the total width"
   ],
   "metadata": {
    "collapsed": false,
    "pycharm": {
     "name": "#%% md\n"
    }
   }
  },
  {
   "cell_type": "code",
   "execution_count": 18,
   "outputs": [],
   "source": [
    "def relative_w (task_id):\n",
    "    '''get Li DOS width relative to the total width'''\n",
    "    \n",
    "    t_dos_obj = mpr.get_phonon_dos_by_material_id ( task_id )\n",
    "    el_dos_obj = t_dos_obj.get_element_dos()\n",
    "    Li_dos_obj = el_dos_obj [Li_key]\n",
    "    total_f = t_dos_obj.frequencies\n",
    "    total_d = t_dos_obj.densities\n",
    "    Li_f = Li_dos_obj.frequencies \n",
    "    Li_d = Li_dos_obj.densities\n",
    "    \n",
    "    df_1 = pd.DataFrame({'total_f': total_f, 'total_d': total_d})\n",
    "    f_1 = df_1.loc[0,'total_f']\n",
    "    f_2 = df_1.iloc[-1].loc['total_f']\n",
    "    total_f_d = f_2 - f_1\n",
    "    \n",
    "    df_2 = pd.DataFrame({'Li_f': Li_f, 'Li_d': Li_d}) \n",
    "    f_1 = df_2.loc[0,'Li_f']\n",
    "    f_2 = df_2.iloc[-1].loc['Li_f']\n",
    "    Li_f_d = f_2 - f_1\n",
    "    \n",
    "    relative_w = Li_f_d / total_f_d\n",
    "    \n",
    "    return relative_w"
   ],
   "metadata": {
    "collapsed": false,
    "pycharm": {
     "name": "#%%\n"
    }
   }
  },
  {
   "cell_type": "markdown",
   "source": [
    "Create an empty column"
   ],
   "metadata": {
    "collapsed": false,
    "pycharm": {
     "name": "#%% md\n"
    }
   }
  },
  {
   "cell_type": "code",
   "execution_count": 19,
   "outputs": [],
   "source": [
    "data['relative_w'] = np.nan"
   ],
   "metadata": {
    "collapsed": false,
    "pycharm": {
     "name": "#%%\n"
    }
   }
  },
  {
   "cell_type": "markdown",
   "source": [
    "Example for getting the data"
   ],
   "metadata": {
    "collapsed": false,
    "pycharm": {
     "name": "#%% md\n"
    }
   }
  },
  {
   "cell_type": "code",
   "execution_count": 20,
   "outputs": [
    {
     "name": "stderr",
     "output_type": "stream",
     "text": [
      "C:\\Users\\Amelia\\AppData\\Local\\Temp\\ipykernel_4780\\1125960793.py:4: SettingWithCopyWarning: \n",
      "A value is trying to be set on a copy of a slice from a DataFrame\n",
      "\n",
      "See the caveats in the documentation: https://pandas.pydata.org/pandas-docs/stable/user_guide/indexing.html#returning-a-view-versus-a-copy\n",
      "  data['relative_w'][i] = w\n"
     ]
    }
   ],
   "source": [
    "index = [*range (0, data.index[-1]+1)]\n",
    "for i in index:\n",
    "    w = relative_w(temp['task_id'][i])\n",
    "    data['relative_w'][i] = w"
   ],
   "metadata": {
    "collapsed": false,
    "pycharm": {
     "name": "#%%\n"
    }
   }
  },
  {
   "cell_type": "code",
   "execution_count": 21,
   "outputs": [
    {
     "data": {
      "text/plain": "       task_id pretty_formula        fav        298        400        500  \\\n0     mp-15788          LiYS2   6.202698   5.830757   5.837647   5.841635   \n1    mp-996962         LiAgO2  10.015853   8.664702   8.701859   8.723256   \n2     mp-23818         BaLiH3  10.604209   9.834129   9.857356   9.870780   \n3      mp-5840         LiScO2   9.787954   7.522111   7.576124   7.607432   \n4     mp-33526         LiBiS2   5.534439   5.222082   5.227304   5.230326   \n..         ...            ...        ...        ...        ...        ...   \n135  mp-961698          LiZnP   9.613426   7.592647   7.642841   7.671675   \n136    mp-3731         LiNbO3   9.629222   8.785166   8.808411   8.821815   \n137    mp-7611      Li2CaGeO4  13.180677  11.515282  11.576673  11.611680   \n138    mp-8405       Li3LaSb2   8.907796   7.856691   7.883062   7.898248   \n139    mp-9143          LiPF6   8.080347   7.281002   7.299152   7.309676   \n\n           600        700        800        900  first_f_a  relative_w  \n0     5.844279   5.846159   5.847566   5.848657   0.072377         1.0  \n1     8.737392   8.747425   8.754915   8.760719   0.072377         1.0  \n2     9.879667   9.885985   9.890706   9.894367   0.072377         1.0  \n3     7.628196   7.642973   7.654025   7.662603   0.072377         1.0  \n4     5.232329   5.233754   5.234819   5.235646   0.072377         1.0  \n..         ...        ...        ...        ...        ...         ...  \n135   7.690696   7.704182   7.714243   7.722036   0.072377         1.0  \n136   8.830677   8.836970   8.841670   8.845314   0.072377         1.0  \n137  11.634665  11.650912  11.663004  11.672353   0.072377         1.0  \n138   7.908280   7.915401   7.920717   7.924837   0.072377         1.0  \n139   7.316658   7.321628   7.325346   7.328233   0.072377         1.0  \n\n[140 rows x 12 columns]",
      "text/html": "<div>\n<style scoped>\n    .dataframe tbody tr th:only-of-type {\n        vertical-align: middle;\n    }\n\n    .dataframe tbody tr th {\n        vertical-align: top;\n    }\n\n    .dataframe thead th {\n        text-align: right;\n    }\n</style>\n<table border=\"1\" class=\"dataframe\">\n  <thead>\n    <tr style=\"text-align: right;\">\n      <th></th>\n      <th>task_id</th>\n      <th>pretty_formula</th>\n      <th>fav</th>\n      <th>298</th>\n      <th>400</th>\n      <th>500</th>\n      <th>600</th>\n      <th>700</th>\n      <th>800</th>\n      <th>900</th>\n      <th>first_f_a</th>\n      <th>relative_w</th>\n    </tr>\n  </thead>\n  <tbody>\n    <tr>\n      <th>0</th>\n      <td>mp-15788</td>\n      <td>LiYS2</td>\n      <td>6.202698</td>\n      <td>5.830757</td>\n      <td>5.837647</td>\n      <td>5.841635</td>\n      <td>5.844279</td>\n      <td>5.846159</td>\n      <td>5.847566</td>\n      <td>5.848657</td>\n      <td>0.072377</td>\n      <td>1.0</td>\n    </tr>\n    <tr>\n      <th>1</th>\n      <td>mp-996962</td>\n      <td>LiAgO2</td>\n      <td>10.015853</td>\n      <td>8.664702</td>\n      <td>8.701859</td>\n      <td>8.723256</td>\n      <td>8.737392</td>\n      <td>8.747425</td>\n      <td>8.754915</td>\n      <td>8.760719</td>\n      <td>0.072377</td>\n      <td>1.0</td>\n    </tr>\n    <tr>\n      <th>2</th>\n      <td>mp-23818</td>\n      <td>BaLiH3</td>\n      <td>10.604209</td>\n      <td>9.834129</td>\n      <td>9.857356</td>\n      <td>9.870780</td>\n      <td>9.879667</td>\n      <td>9.885985</td>\n      <td>9.890706</td>\n      <td>9.894367</td>\n      <td>0.072377</td>\n      <td>1.0</td>\n    </tr>\n    <tr>\n      <th>3</th>\n      <td>mp-5840</td>\n      <td>LiScO2</td>\n      <td>9.787954</td>\n      <td>7.522111</td>\n      <td>7.576124</td>\n      <td>7.607432</td>\n      <td>7.628196</td>\n      <td>7.642973</td>\n      <td>7.654025</td>\n      <td>7.662603</td>\n      <td>0.072377</td>\n      <td>1.0</td>\n    </tr>\n    <tr>\n      <th>4</th>\n      <td>mp-33526</td>\n      <td>LiBiS2</td>\n      <td>5.534439</td>\n      <td>5.222082</td>\n      <td>5.227304</td>\n      <td>5.230326</td>\n      <td>5.232329</td>\n      <td>5.233754</td>\n      <td>5.234819</td>\n      <td>5.235646</td>\n      <td>0.072377</td>\n      <td>1.0</td>\n    </tr>\n    <tr>\n      <th>...</th>\n      <td>...</td>\n      <td>...</td>\n      <td>...</td>\n      <td>...</td>\n      <td>...</td>\n      <td>...</td>\n      <td>...</td>\n      <td>...</td>\n      <td>...</td>\n      <td>...</td>\n      <td>...</td>\n      <td>...</td>\n    </tr>\n    <tr>\n      <th>135</th>\n      <td>mp-961698</td>\n      <td>LiZnP</td>\n      <td>9.613426</td>\n      <td>7.592647</td>\n      <td>7.642841</td>\n      <td>7.671675</td>\n      <td>7.690696</td>\n      <td>7.704182</td>\n      <td>7.714243</td>\n      <td>7.722036</td>\n      <td>0.072377</td>\n      <td>1.0</td>\n    </tr>\n    <tr>\n      <th>136</th>\n      <td>mp-3731</td>\n      <td>LiNbO3</td>\n      <td>9.629222</td>\n      <td>8.785166</td>\n      <td>8.808411</td>\n      <td>8.821815</td>\n      <td>8.830677</td>\n      <td>8.836970</td>\n      <td>8.841670</td>\n      <td>8.845314</td>\n      <td>0.072377</td>\n      <td>1.0</td>\n    </tr>\n    <tr>\n      <th>137</th>\n      <td>mp-7611</td>\n      <td>Li2CaGeO4</td>\n      <td>13.180677</td>\n      <td>11.515282</td>\n      <td>11.576673</td>\n      <td>11.611680</td>\n      <td>11.634665</td>\n      <td>11.650912</td>\n      <td>11.663004</td>\n      <td>11.672353</td>\n      <td>0.072377</td>\n      <td>1.0</td>\n    </tr>\n    <tr>\n      <th>138</th>\n      <td>mp-8405</td>\n      <td>Li3LaSb2</td>\n      <td>8.907796</td>\n      <td>7.856691</td>\n      <td>7.883062</td>\n      <td>7.898248</td>\n      <td>7.908280</td>\n      <td>7.915401</td>\n      <td>7.920717</td>\n      <td>7.924837</td>\n      <td>0.072377</td>\n      <td>1.0</td>\n    </tr>\n    <tr>\n      <th>139</th>\n      <td>mp-9143</td>\n      <td>LiPF6</td>\n      <td>8.080347</td>\n      <td>7.281002</td>\n      <td>7.299152</td>\n      <td>7.309676</td>\n      <td>7.316658</td>\n      <td>7.321628</td>\n      <td>7.325346</td>\n      <td>7.328233</td>\n      <td>0.072377</td>\n      <td>1.0</td>\n    </tr>\n  </tbody>\n</table>\n<p>140 rows × 12 columns</p>\n</div>"
     },
     "execution_count": 21,
     "metadata": {},
     "output_type": "execute_result"
    }
   ],
   "source": [
    "data"
   ],
   "metadata": {
    "collapsed": false,
    "pycharm": {
     "name": "#%%\n"
    }
   }
  },
  {
   "cell_type": "markdown",
   "source": [
    "Write the data into csv file"
   ],
   "metadata": {
    "collapsed": false,
    "pycharm": {
     "name": "#%% md\n"
    }
   }
  },
  {
   "cell_type": "code",
   "execution_count": 22,
   "id": "14437084",
   "metadata": {
    "pycharm": {
     "name": "#%%\n"
    }
   },
   "outputs": [],
   "source": [
    "data.to_csv('data_small.csv')"
   ]
  }
 ],
 "metadata": {
  "kernelspec": {
   "display_name": "Python 3 (ipykernel)",
   "language": "python",
   "name": "python3"
  },
  "language_info": {
   "codemirror_mode": {
    "name": "ipython",
    "version": 3
   },
   "file_extension": ".py",
   "mimetype": "text/x-python",
   "name": "python",
   "nbconvert_exporter": "python",
   "pygments_lexer": "ipython3",
   "version": "3.9.12"
  }
 },
 "nbformat": 4,
 "nbformat_minor": 5
}