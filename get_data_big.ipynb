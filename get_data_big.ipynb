{
 "cells": [
  {
   "cell_type": "code",
   "execution_count": 61,
   "id": "8958b06f",
   "metadata": {
    "pycharm": {
     "name": "#%%\n"
    }
   },
   "outputs": [],
   "source": [
    "# Imports\n",
    "import phonopy\n",
    "from monty.serialization import loadfn\n",
    "import pandas as pd\n",
    "import numpy as np\n",
    "import re\n",
    "import gc\n",
    "import scipy.constants\n",
    "import math\n",
    "import os"
   ]
  },
  {
   "cell_type": "markdown",
   "source": [
    "Read the database lookup file"
   ],
   "metadata": {
    "collapsed": false,
    "pycharm": {
     "name": "#%% md\n"
    }
   }
  },
  {
   "cell_type": "code",
   "execution_count": 62,
   "id": "cd8a2b3f",
   "metadata": {
    "pycharm": {
     "name": "#%%\n"
    }
   },
   "outputs": [
    {
     "data": {
      "text/plain": "  material_id        elements formula_pretty_reduced          formula  \\\n0     mp-1000        [Te, Ba]                   BaTe          Ba4 Te4   \n1    mp-10009        [Ga, Te]                   GaTe          Ga4 Te4   \n2    mp-10070  [O, P, Ag, Ba]             BaAg(PO3)3  Ba4 Ag4 P12 O36   \n3    mp-10074        [Ge, Se]                  GeSe2          Ge4 Se8   \n4    mp-10080  [B, O, Ge, Pr]                PrGeBO5   Pr3 Ge3 B3 O15   \n\n   num_elements    chemsys spacegroup_symbol  spacegroup_number  \\\n0             2      Ba-Te             Fm-3m                225   \n1             2      Ga-Te          P6_3/mmc                194   \n2             4  Ag-Ba-O-P        P2_12_12_1                 19   \n3             2      Ge-Se             I-42d                122   \n4             4  B-Ge-O-Pr              P3_1                144   \n\n                      FORCE_SETS_filepath  \\\n0   phonon_db/mp-1000-20180417/FORCE_SETS   \n1  phonon_db/mp-10009-20180417/FORCE_SETS   \n2  phonon_db/mp-10070-20180417/FORCE_SETS   \n3  phonon_db/mp-10074-20180417/FORCE_SETS   \n4  phonon_db/mp-10080-20180417/FORCE_SETS   \n\n                           phonon_filepath  \n0   phonon_db/mp-1000-20180417/phonon.yaml  \n1  phonon_db/mp-10009-20180417/phonon.yaml  \n2  phonon_db/mp-10070-20180417/phonon.yaml  \n3  phonon_db/mp-10074-20180417/phonon.yaml  \n4  phonon_db/mp-10080-20180417/phonon.yaml  ",
      "text/html": "<div>\n<style scoped>\n    .dataframe tbody tr th:only-of-type {\n        vertical-align: middle;\n    }\n\n    .dataframe tbody tr th {\n        vertical-align: top;\n    }\n\n    .dataframe thead th {\n        text-align: right;\n    }\n</style>\n<table border=\"1\" class=\"dataframe\">\n  <thead>\n    <tr style=\"text-align: right;\">\n      <th></th>\n      <th>material_id</th>\n      <th>elements</th>\n      <th>formula_pretty_reduced</th>\n      <th>formula</th>\n      <th>num_elements</th>\n      <th>chemsys</th>\n      <th>spacegroup_symbol</th>\n      <th>spacegroup_number</th>\n      <th>FORCE_SETS_filepath</th>\n      <th>phonon_filepath</th>\n    </tr>\n  </thead>\n  <tbody>\n    <tr>\n      <th>0</th>\n      <td>mp-1000</td>\n      <td>[Te, Ba]</td>\n      <td>BaTe</td>\n      <td>Ba4 Te4</td>\n      <td>2</td>\n      <td>Ba-Te</td>\n      <td>Fm-3m</td>\n      <td>225</td>\n      <td>phonon_db/mp-1000-20180417/FORCE_SETS</td>\n      <td>phonon_db/mp-1000-20180417/phonon.yaml</td>\n    </tr>\n    <tr>\n      <th>1</th>\n      <td>mp-10009</td>\n      <td>[Ga, Te]</td>\n      <td>GaTe</td>\n      <td>Ga4 Te4</td>\n      <td>2</td>\n      <td>Ga-Te</td>\n      <td>P6_3/mmc</td>\n      <td>194</td>\n      <td>phonon_db/mp-10009-20180417/FORCE_SETS</td>\n      <td>phonon_db/mp-10009-20180417/phonon.yaml</td>\n    </tr>\n    <tr>\n      <th>2</th>\n      <td>mp-10070</td>\n      <td>[O, P, Ag, Ba]</td>\n      <td>BaAg(PO3)3</td>\n      <td>Ba4 Ag4 P12 O36</td>\n      <td>4</td>\n      <td>Ag-Ba-O-P</td>\n      <td>P2_12_12_1</td>\n      <td>19</td>\n      <td>phonon_db/mp-10070-20180417/FORCE_SETS</td>\n      <td>phonon_db/mp-10070-20180417/phonon.yaml</td>\n    </tr>\n    <tr>\n      <th>3</th>\n      <td>mp-10074</td>\n      <td>[Ge, Se]</td>\n      <td>GeSe2</td>\n      <td>Ge4 Se8</td>\n      <td>2</td>\n      <td>Ge-Se</td>\n      <td>I-42d</td>\n      <td>122</td>\n      <td>phonon_db/mp-10074-20180417/FORCE_SETS</td>\n      <td>phonon_db/mp-10074-20180417/phonon.yaml</td>\n    </tr>\n    <tr>\n      <th>4</th>\n      <td>mp-10080</td>\n      <td>[B, O, Ge, Pr]</td>\n      <td>PrGeBO5</td>\n      <td>Pr3 Ge3 B3 O15</td>\n      <td>4</td>\n      <td>B-Ge-O-Pr</td>\n      <td>P3_1</td>\n      <td>144</td>\n      <td>phonon_db/mp-10080-20180417/FORCE_SETS</td>\n      <td>phonon_db/mp-10080-20180417/phonon.yaml</td>\n    </tr>\n  </tbody>\n</table>\n</div>"
     },
     "execution_count": 62,
     "metadata": {},
     "output_type": "execute_result"
    }
   ],
   "source": [
    "# Create a dataframe\n",
    "df = loadfn(r\"phonon_db_lookup_df.json\")\n",
    "df.head()"
   ]
  },
  {
   "cell_type": "markdown",
   "source": [
    "Get the species with Li element"
   ],
   "metadata": {
    "collapsed": false,
    "pycharm": {
     "name": "#%% md\n"
    }
   }
  },
  {
   "cell_type": "code",
   "execution_count": 63,
   "id": "a4f6fcf0",
   "metadata": {
    "scrolled": true,
    "pycharm": {
     "name": "#%%\n"
    }
   },
   "outputs": [
    {
     "name": "stdout",
     "output_type": "stream",
     "text": [
      "Of the 10034 materials in this dataset, 873 contain lithium \n",
      "\n"
     ]
    },
    {
     "data": {
      "text/plain": "  material_id         elements formula_pretty_reduced          formula  \\\n0    mp-10103  [Li, F, Al, Yb]               LiYbAlF6  Li2 Yb2 Al2 F12   \n1    mp-10182      [Li, P, Zn]                  LiZnP       Li4 Zn4 P4   \n2    mp-10250      [Li, F, Ba]                 BaLiF3       Ba1 Li1 F3   \n3    mp-10251      [Li, O, Dy]                 LiDyO2       Li4 Dy4 O8   \n4    mp-10485     [Li, Sb, Ba]                 BaLiSb      Ba2 Li2 Sb2   \n\n   num_elements     chemsys spacegroup_symbol  spacegroup_number  \\\n0             4  Al-F-Li-Yb             P-31c                163   \n1             3     Li-P-Zn             F-43m                216   \n2             3     Ba-F-Li             Pm-3m                221   \n3             3     Dy-Li-O            P2_1/c                 14   \n4             3    Ba-Li-Sb          P6_3/mmc                194   \n\n                      FORCE_SETS_filepath  \\\n0  phonon_db/mp-10103-20180417/FORCE_SETS   \n1  phonon_db/mp-10182-20180417/FORCE_SETS   \n2  phonon_db/mp-10250-20180417/FORCE_SETS   \n3  phonon_db/mp-10251-20180417/FORCE_SETS   \n4  phonon_db/mp-10485-20180417/FORCE_SETS   \n\n                           phonon_filepath  \n0  phonon_db/mp-10103-20180417/phonon.yaml  \n1  phonon_db/mp-10182-20180417/phonon.yaml  \n2  phonon_db/mp-10250-20180417/phonon.yaml  \n3  phonon_db/mp-10251-20180417/phonon.yaml  \n4  phonon_db/mp-10485-20180417/phonon.yaml  ",
      "text/html": "<div>\n<style scoped>\n    .dataframe tbody tr th:only-of-type {\n        vertical-align: middle;\n    }\n\n    .dataframe tbody tr th {\n        vertical-align: top;\n    }\n\n    .dataframe thead th {\n        text-align: right;\n    }\n</style>\n<table border=\"1\" class=\"dataframe\">\n  <thead>\n    <tr style=\"text-align: right;\">\n      <th></th>\n      <th>material_id</th>\n      <th>elements</th>\n      <th>formula_pretty_reduced</th>\n      <th>formula</th>\n      <th>num_elements</th>\n      <th>chemsys</th>\n      <th>spacegroup_symbol</th>\n      <th>spacegroup_number</th>\n      <th>FORCE_SETS_filepath</th>\n      <th>phonon_filepath</th>\n    </tr>\n  </thead>\n  <tbody>\n    <tr>\n      <th>0</th>\n      <td>mp-10103</td>\n      <td>[Li, F, Al, Yb]</td>\n      <td>LiYbAlF6</td>\n      <td>Li2 Yb2 Al2 F12</td>\n      <td>4</td>\n      <td>Al-F-Li-Yb</td>\n      <td>P-31c</td>\n      <td>163</td>\n      <td>phonon_db/mp-10103-20180417/FORCE_SETS</td>\n      <td>phonon_db/mp-10103-20180417/phonon.yaml</td>\n    </tr>\n    <tr>\n      <th>1</th>\n      <td>mp-10182</td>\n      <td>[Li, P, Zn]</td>\n      <td>LiZnP</td>\n      <td>Li4 Zn4 P4</td>\n      <td>3</td>\n      <td>Li-P-Zn</td>\n      <td>F-43m</td>\n      <td>216</td>\n      <td>phonon_db/mp-10182-20180417/FORCE_SETS</td>\n      <td>phonon_db/mp-10182-20180417/phonon.yaml</td>\n    </tr>\n    <tr>\n      <th>2</th>\n      <td>mp-10250</td>\n      <td>[Li, F, Ba]</td>\n      <td>BaLiF3</td>\n      <td>Ba1 Li1 F3</td>\n      <td>3</td>\n      <td>Ba-F-Li</td>\n      <td>Pm-3m</td>\n      <td>221</td>\n      <td>phonon_db/mp-10250-20180417/FORCE_SETS</td>\n      <td>phonon_db/mp-10250-20180417/phonon.yaml</td>\n    </tr>\n    <tr>\n      <th>3</th>\n      <td>mp-10251</td>\n      <td>[Li, O, Dy]</td>\n      <td>LiDyO2</td>\n      <td>Li4 Dy4 O8</td>\n      <td>3</td>\n      <td>Dy-Li-O</td>\n      <td>P2_1/c</td>\n      <td>14</td>\n      <td>phonon_db/mp-10251-20180417/FORCE_SETS</td>\n      <td>phonon_db/mp-10251-20180417/phonon.yaml</td>\n    </tr>\n    <tr>\n      <th>4</th>\n      <td>mp-10485</td>\n      <td>[Li, Sb, Ba]</td>\n      <td>BaLiSb</td>\n      <td>Ba2 Li2 Sb2</td>\n      <td>3</td>\n      <td>Ba-Li-Sb</td>\n      <td>P6_3/mmc</td>\n      <td>194</td>\n      <td>phonon_db/mp-10485-20180417/FORCE_SETS</td>\n      <td>phonon_db/mp-10485-20180417/phonon.yaml</td>\n    </tr>\n  </tbody>\n</table>\n</div>"
     },
     "execution_count": 63,
     "metadata": {},
     "output_type": "execute_result"
    }
   ],
   "source": [
    "def element_filtered_dataframe(df, element):\n",
    "    \"\"\"A function which filters a dataframe for a particular element and returns a new dataframe with only entries containing that element.\n",
    "    \n",
    "    Input:\n",
    "        df (pd.DataFrame): The original dataframe which describes the database\n",
    "        element (str): The element which you want to query the dataframe for.\n",
    "    Output:\n",
    "        filtered_df (pd.DataFrame): A new dataframe with only entries which contain the element of interest\"\"\"\n",
    "    \n",
    "    return df.loc[df['chemsys'].str.contains(element)].reset_index(drop=True)\n",
    "\n",
    "Li_df = element_filtered_dataframe(df,'Li')\n",
    "print(f'Of the {df.shape[0]} materials in this dataset, {Li_df.shape[0]} contain lithium \\n')\n",
    "\n",
    "Li_df.head()"
   ]
  },
  {
   "cell_type": "markdown",
   "source": [
    "An extra variable 'formula' for reading Li pdos later in this notebook"
   ],
   "metadata": {
    "collapsed": false,
    "pycharm": {
     "name": "#%% md\n"
    }
   }
  },
  {
   "cell_type": "code",
   "execution_count": 64,
   "outputs": [],
   "source": [
    "formula = Li_df['formula'].str.split(\" \", -1, expand=True)"
   ],
   "metadata": {
    "collapsed": false,
    "pycharm": {
     "name": "#%%\n"
    }
   }
  },
  {
   "cell_type": "markdown",
   "source": [
    "The folder path is required for accessing the dat file\n",
    "Example here: the dat folder contains all dos and pdos files for 873 species contain lithium in dat file format"
   ],
   "metadata": {
    "collapsed": false,
    "pycharm": {
     "name": "#%% md\n"
    }
   }
  },
  {
   "cell_type": "code",
   "execution_count": 83,
   "outputs": [],
   "source": [
    "folder_path = \"C:/Users/Amelia/Desktop/UROP/dat/\""
   ],
   "metadata": {
    "collapsed": false,
    "pycharm": {
     "name": "#%%\n"
    }
   }
  },
  {
   "cell_type": "code",
   "execution_count": 66,
   "outputs": [],
   "source": [
    "def loading (index):\n",
    "    '''loading file from the database'''\n",
    "    phonon_filepath = Li_df['phonon_filepath'][index]\n",
    "    print(phonon_filepath)\n",
    "    force_sets_filepath = Li_df['FORCE_SETS_filepath'][index]\n",
    "    print(force_sets_filepath)\n",
    "\n",
    "    ph = phonopy.load(phonon_filepath, force_sets_filename=force_sets_filepath, log_level=1)\n",
    "    \n",
    "    return ph"
   ],
   "metadata": {
    "collapsed": false,
    "pycharm": {
     "name": "#%%\n"
    }
   }
  },
  {
   "cell_type": "code",
   "execution_count": 67,
   "outputs": [],
   "source": [
    "def separate_text (string):\n",
    "    '''Separate string e.g. Li2 into Li and 2'''\n",
    "    match = re.match(r\"([a-z]+)([0-9]+)\", string , re.I)\n",
    "    if match:\n",
    "        res = match.groups()\n",
    "        \n",
    "    return res"
   ],
   "metadata": {
    "collapsed": false,
    "pycharm": {
     "name": "#%%\n"
    }
   }
  },
  {
   "cell_type": "code",
   "execution_count": 68,
   "outputs": [],
   "source": [
    "def find_Li_entry (index):\n",
    "    '''Return a list of entries for Li atom pdos in dat file'''\n",
    "    temp = {}\n",
    "    shape = np.shape(formula)\n",
    "    length = shape[1]\n",
    "    for i in [*range (0, length)]:\n",
    "        if formula.loc[index,i] != None:\n",
    "            t = formula.loc[index,i]\n",
    "            res = separate_text(t)\n",
    "            temp[res[0]] = int(res[1])\n",
    "\n",
    "    keys = [*temp.keys()]\n",
    "\n",
    "    if keys[0] == 'Li':\n",
    "        no_of_entry = temp['Li']\n",
    "        entry = [*range(1,no_of_entry+1)]\n",
    "\n",
    "    elif keys[0] != 'Li':\n",
    "        Li_index = keys.index('Li')\n",
    "        index_list = [*range(0,Li_index)]\n",
    "        start = 0\n",
    "        for i in index_list:\n",
    "            start += temp[keys[i]]\n",
    "        start += 1\n",
    "        no_of_entry = temp['Li']\n",
    "        entry = [*range(start, start + no_of_entry)]\n",
    "\n",
    "    return entry"
   ],
   "metadata": {
    "collapsed": false,
    "pycharm": {
     "name": "#%%\n"
    }
   }
  },
  {
   "cell_type": "code",
   "execution_count": 69,
   "outputs": [],
   "source": [
    "def find_unmatch ():\n",
    "    '''not necessary, only if pdos file has less atom data than actual formula'''\n",
    "    \n",
    "    all_index = [*range (0, Li_df.index[-1]+1)] \n",
    "    unmatch = []\n",
    "    \n",
    "    for index in all_index:\n",
    "        temp = {}\n",
    "        shape = np.shape(formula)\n",
    "        length = shape[1]\n",
    "        for i in [*range (0, length)]:\n",
    "            if formula.loc[index,i] != None:\n",
    "                t = formula.loc[index,i]\n",
    "                res = separate_text(t)\n",
    "                temp[res[0]] = int(res[1])\n",
    "\n",
    "        keys = [*temp.keys()]\n",
    "\n",
    "        total_entry = 0\n",
    "        for i in keys:\n",
    "            total_entry += temp[i]\n",
    "\n",
    "        total_entry += 1 #inclue the frequency row\n",
    "        \n",
    "        file = np. loadtxt(os.path.join(folder_path, \"projected_dos_{0}.dat\".format(index)),unpack = True)\n",
    "        shape = np.shape(file)\n",
    "        file_entry = shape[0]\n",
    "        \n",
    "        if total_entry != file_entry:\n",
    "            unmatch.append(index)\n",
    "            \n",
    "        return unmatch"
   ],
   "metadata": {
    "collapsed": false,
    "pycharm": {
     "name": "#%%\n"
    }
   }
  },
  {
   "cell_type": "code",
   "execution_count": 70,
   "outputs": [],
   "source": [
    "def find_total_no_atoms ():\n",
    "    '''find total no of atoms in a unit cell'''\n",
    "\n",
    "    all_index = [*range (0, Li_df.index[-1]+1)]\n",
    "    total_no_atoms = {}\n",
    "    for index in all_index:\n",
    "        temp = {}\n",
    "        shape = np.shape(formula)\n",
    "        length = shape[1]\n",
    "        for i in [*range (0, length)]:\n",
    "            if formula.loc[index,i] != None:\n",
    "                t = formula.loc[index,i]\n",
    "                res = separate_text(t)\n",
    "                temp[res[0]] = int(res[1])\n",
    "\n",
    "        keys = [*temp.keys()]\n",
    "\n",
    "        total_entry = 0\n",
    "        for i in keys:\n",
    "            total_entry += temp[i]\n",
    "\n",
    "        total_no_atoms[index] = total_entry\n",
    "\n",
    "    return total_no_atoms"
   ],
   "metadata": {
    "collapsed": false,
    "pycharm": {
     "name": "#%%\n"
    }
   }
  },
  {
   "cell_type": "code",
   "execution_count": 71,
   "outputs": [],
   "source": [
    "def find_most_atom_species ():\n",
    "    '''find the index of the species that has the largest number of atoms in a unit cell'''\n",
    "\n",
    "    result = find_total_no_atoms()\n",
    "    species = list(result.keys())[list(result.values()).index(max(result.values()))]\n",
    "\n",
    "    return species"
   ],
   "metadata": {
    "collapsed": false,
    "pycharm": {
     "name": "#%%\n"
    }
   }
  },
  {
   "cell_type": "code",
   "execution_count": 72,
   "outputs": [],
   "source": [
    "def get_total_dos(index):\n",
    "    '''Get total DOS values in a list'''\n",
    "    file = np. loadtxt(os.path.join(folder_path, \"total_dos_{0}.dat\".format(index)),unpack = True)\n",
    "    total_dos = file[1]\n",
    "    \n",
    "    return total_dos"
   ],
   "metadata": {
    "collapsed": false,
    "pycharm": {
     "name": "#%%\n"
    }
   }
  },
  {
   "cell_type": "code",
   "execution_count": 73,
   "outputs": [],
   "source": [
    "def get_total_f(index):\n",
    "    '''Get total frequency values in a list'''\n",
    "    file = np. loadtxt(os.path.join(folder_path, \"total_dos_{0}.dat\".format(index)),unpack = True)\n",
    "    total_f = file[0]\n",
    "    \n",
    "    return total_f"
   ],
   "metadata": {
    "collapsed": false,
    "pycharm": {
     "name": "#%%\n"
    }
   }
  },
  {
   "cell_type": "code",
   "execution_count": 74,
   "outputs": [],
   "source": [
    "def get_partial_dos (index):\n",
    "    '''Get partial DOS values in a numpy array'''\n",
    "    #entry should be a list of numbers corresponding to the columns of the species of interest\n",
    "    file = np. loadtxt(os.path.join(folder_path, \"projected_dos_{0}.dat\".format(index)),unpack = True)\n",
    "    entry = find_Li_entry (index)\n",
    "    partial_dos = 0\n",
    "    for i in entry:\n",
    "        partial_dos += file [i]\n",
    "    \n",
    "    return partial_dos"
   ],
   "metadata": {
    "collapsed": false,
    "pycharm": {
     "name": "#%%\n"
    }
   }
  },
  {
   "cell_type": "code",
   "execution_count": 75,
   "outputs": [],
   "source": [
    "def get_partial_f (index):\n",
    "    '''Get partial DOS frequency in a numpy array'''\n",
    "    #entry should be a list of numbers corresponding to the columns of the species of interest\n",
    "    file = np. loadtxt(os.path.join(folder_path, \"projected_dos_{0}.dat\".format(index)),unpack = True)\n",
    "    partial_f = file[0]\n",
    "    \n",
    "    return partial_f"
   ],
   "metadata": {
    "collapsed": false,
    "pycharm": {
     "name": "#%%\n"
    }
   }
  },
  {
   "cell_type": "code",
   "execution_count": 76,
   "outputs": [],
   "source": [
    "def run_all_dos( mesh = 50):\n",
    "    '''takes around 2 hrs for 800+ data, the larger the mesh, the better the quality of dos data'''\n",
    "\n",
    "    global fail_total\n",
    "    global fail_projected\n",
    "\n",
    "    fail_total = []\n",
    "    fail_projected = []\n",
    "\n",
    "    index = [*range (0, Li_df.index[-1]+1)]\n",
    "    for i in index:\n",
    "        \n",
    "        ph = loading(i)\n",
    "        ph.run_mesh(mesh, with_eigenvectors=True, is_mesh_symmetry=False)\n",
    "\n",
    "        filename_1 = os.path.join(folder_path, \"total_dos_{0}.dat\".format(index))\n",
    "        filename_2 = os.path.join(folder_path, \"projected_dos_{0}.dat\".format(index))\n",
    "\n",
    "        try:\n",
    "            ph.run_total_dos()\n",
    "            ph.write_total_dos(filename = filename_1)\n",
    "        except MemoryError as e:\n",
    "            fail_total.append(i)\n",
    "            pass\n",
    "\n",
    "        try:\n",
    "            ph.run_projected_dos()\n",
    "            ph.write_projected_dos(filename = filename_2)\n",
    "        except MemoryError as e:\n",
    "            fail_projected.append(i)\n",
    "            pass\n",
    "\n",
    "        print(i)\n",
    "\n",
    "        del ph\n",
    "        gc.collect()\n",
    "        \n",
    "    return"
   ],
   "metadata": {
    "collapsed": false,
    "pycharm": {
     "name": "#%%\n"
    }
   }
  },
  {
   "cell_type": "code",
   "execution_count": 17,
   "outputs": [],
   "source": [
    "#run_all_dos(mesh = 50)\n",
    "#default is mesh = 50 which is low enough to run by regular computer, mesh can take either integer or list of three values\n",
    "#phonopy default is 100 or [20, 20, 20]"
   ],
   "metadata": {
    "collapsed": false,
    "pycharm": {
     "name": "#%%\n"
    }
   }
  },
  {
   "cell_type": "markdown",
   "source": [
    "Prepare a dataframe for output"
   ],
   "metadata": {
    "collapsed": false,
    "pycharm": {
     "name": "#%% md\n"
    }
   }
  },
  {
   "cell_type": "code",
   "execution_count": 77,
   "outputs": [
    {
     "data": {
      "text/plain": "    material_id          elements formula_pretty_reduced           formula  \\\n0      mp-10103   [Li, F, Al, Yb]               LiYbAlF6   Li2 Yb2 Al2 F12   \n1      mp-10182       [Li, P, Zn]                  LiZnP        Li4 Zn4 P4   \n2      mp-10250       [Li, F, Ba]                 BaLiF3        Ba1 Li1 F3   \n3      mp-10251       [Li, O, Dy]                 LiDyO2        Li4 Dy4 O8   \n4      mp-10485      [Li, Sb, Ba]                 BaLiSb       Ba2 Li2 Sb2   \n..          ...               ...                    ...               ...   \n868   mp-989579  [Rb, Li, Tl, Cl]             Rb2LiTlCl6  Rb8 Li4 Tl4 Cl24   \n869   mp-989583  [Rb, Li, In, Cl]             Rb2LiInCl6  Rb8 Li4 In4 Cl24   \n870     mp-9912       [Li, P, Ce]                Li2CeP2        Li2 Ce1 P2   \n871     mp-9915       [Li, Be, P]                  LiBeP        Li2 Be2 P2   \n872     mp-9919      [Li, Zn, Sb]                 LiZnSb       Li2 Zn2 Sb2   \n\n     num_elements      chemsys spacegroup_symbol  spacegroup_number  \n0               4   Al-F-Li-Yb             P-31c                163  \n1               3      Li-P-Zn             F-43m                216  \n2               3      Ba-F-Li             Pm-3m                221  \n3               3      Dy-Li-O            P2_1/c                 14  \n4               3     Ba-Li-Sb          P6_3/mmc                194  \n..            ...          ...               ...                ...  \n868             4  Cl-Li-Rb-Tl             Fm-3m                225  \n869             4  Cl-In-Li-Rb             Fm-3m                225  \n870             3      Ce-Li-P             P-3m1                164  \n871             3      Be-Li-P            P4/nmm                129  \n872             3     Li-Sb-Zn            P6_3mc                186  \n\n[873 rows x 8 columns]",
      "text/html": "<div>\n<style scoped>\n    .dataframe tbody tr th:only-of-type {\n        vertical-align: middle;\n    }\n\n    .dataframe tbody tr th {\n        vertical-align: top;\n    }\n\n    .dataframe thead th {\n        text-align: right;\n    }\n</style>\n<table border=\"1\" class=\"dataframe\">\n  <thead>\n    <tr style=\"text-align: right;\">\n      <th></th>\n      <th>material_id</th>\n      <th>elements</th>\n      <th>formula_pretty_reduced</th>\n      <th>formula</th>\n      <th>num_elements</th>\n      <th>chemsys</th>\n      <th>spacegroup_symbol</th>\n      <th>spacegroup_number</th>\n    </tr>\n  </thead>\n  <tbody>\n    <tr>\n      <th>0</th>\n      <td>mp-10103</td>\n      <td>[Li, F, Al, Yb]</td>\n      <td>LiYbAlF6</td>\n      <td>Li2 Yb2 Al2 F12</td>\n      <td>4</td>\n      <td>Al-F-Li-Yb</td>\n      <td>P-31c</td>\n      <td>163</td>\n    </tr>\n    <tr>\n      <th>1</th>\n      <td>mp-10182</td>\n      <td>[Li, P, Zn]</td>\n      <td>LiZnP</td>\n      <td>Li4 Zn4 P4</td>\n      <td>3</td>\n      <td>Li-P-Zn</td>\n      <td>F-43m</td>\n      <td>216</td>\n    </tr>\n    <tr>\n      <th>2</th>\n      <td>mp-10250</td>\n      <td>[Li, F, Ba]</td>\n      <td>BaLiF3</td>\n      <td>Ba1 Li1 F3</td>\n      <td>3</td>\n      <td>Ba-F-Li</td>\n      <td>Pm-3m</td>\n      <td>221</td>\n    </tr>\n    <tr>\n      <th>3</th>\n      <td>mp-10251</td>\n      <td>[Li, O, Dy]</td>\n      <td>LiDyO2</td>\n      <td>Li4 Dy4 O8</td>\n      <td>3</td>\n      <td>Dy-Li-O</td>\n      <td>P2_1/c</td>\n      <td>14</td>\n    </tr>\n    <tr>\n      <th>4</th>\n      <td>mp-10485</td>\n      <td>[Li, Sb, Ba]</td>\n      <td>BaLiSb</td>\n      <td>Ba2 Li2 Sb2</td>\n      <td>3</td>\n      <td>Ba-Li-Sb</td>\n      <td>P6_3/mmc</td>\n      <td>194</td>\n    </tr>\n    <tr>\n      <th>...</th>\n      <td>...</td>\n      <td>...</td>\n      <td>...</td>\n      <td>...</td>\n      <td>...</td>\n      <td>...</td>\n      <td>...</td>\n      <td>...</td>\n    </tr>\n    <tr>\n      <th>868</th>\n      <td>mp-989579</td>\n      <td>[Rb, Li, Tl, Cl]</td>\n      <td>Rb2LiTlCl6</td>\n      <td>Rb8 Li4 Tl4 Cl24</td>\n      <td>4</td>\n      <td>Cl-Li-Rb-Tl</td>\n      <td>Fm-3m</td>\n      <td>225</td>\n    </tr>\n    <tr>\n      <th>869</th>\n      <td>mp-989583</td>\n      <td>[Rb, Li, In, Cl]</td>\n      <td>Rb2LiInCl6</td>\n      <td>Rb8 Li4 In4 Cl24</td>\n      <td>4</td>\n      <td>Cl-In-Li-Rb</td>\n      <td>Fm-3m</td>\n      <td>225</td>\n    </tr>\n    <tr>\n      <th>870</th>\n      <td>mp-9912</td>\n      <td>[Li, P, Ce]</td>\n      <td>Li2CeP2</td>\n      <td>Li2 Ce1 P2</td>\n      <td>3</td>\n      <td>Ce-Li-P</td>\n      <td>P-3m1</td>\n      <td>164</td>\n    </tr>\n    <tr>\n      <th>871</th>\n      <td>mp-9915</td>\n      <td>[Li, Be, P]</td>\n      <td>LiBeP</td>\n      <td>Li2 Be2 P2</td>\n      <td>3</td>\n      <td>Be-Li-P</td>\n      <td>P4/nmm</td>\n      <td>129</td>\n    </tr>\n    <tr>\n      <th>872</th>\n      <td>mp-9919</td>\n      <td>[Li, Zn, Sb]</td>\n      <td>LiZnSb</td>\n      <td>Li2 Zn2 Sb2</td>\n      <td>3</td>\n      <td>Li-Sb-Zn</td>\n      <td>P6_3mc</td>\n      <td>186</td>\n    </tr>\n  </tbody>\n</table>\n<p>873 rows × 8 columns</p>\n</div>"
     },
     "execution_count": 77,
     "metadata": {},
     "output_type": "execute_result"
    }
   ],
   "source": [
    "data = Li_df.copy()\n",
    "data = data.drop('FORCE_SETS_filepath', axis=1)\n",
    "data = data.drop('phonon_filepath', axis=1)\n",
    "data"
   ],
   "metadata": {
    "collapsed": false,
    "pycharm": {
     "name": "#%%\n"
    }
   }
  },
  {
   "cell_type": "code",
   "execution_count": 78,
   "outputs": [],
   "source": [
    "def get_all_data (index):\n",
    "    '''output four lists of data based on index input'''\n",
    "    \n",
    "    total_dos = get_total_dos(index)\n",
    "    total_f = get_total_f(index)\n",
    "    projected_dos = get_partial_dos (index)\n",
    "    projected_f = get_partial_f (index)\n",
    "    \n",
    "    return total_dos,total_f,projected_dos,projected_f"
   ],
   "metadata": {
    "collapsed": false,
    "pycharm": {
     "name": "#%%\n"
    }
   }
  },
  {
   "cell_type": "code",
   "execution_count": 79,
   "outputs": [],
   "source": [
    "def get_fav (index):\n",
    "    '''Get a temperature independent phonon band centre value'''\n",
    "    \n",
    "    Li_f = get_partial_f(index)\n",
    "    Li_d = get_partial_dos(index)\n",
    "    \n",
    "    fav_elements = Li_f * Li_d\n",
    "    fav = np.sum(fav_elements)\n",
    "    norm = np.sum(Li_d)\n",
    "    fav = fav / norm\n",
    "    return fav"
   ],
   "metadata": {
    "collapsed": false,
    "pycharm": {
     "name": "#%%\n"
    }
   }
  },
  {
   "cell_type": "code",
   "execution_count": 80,
   "outputs": [],
   "source": [
    "k = scipy.constants.k\n",
    "hbar = scipy.constants.hbar\n",
    "\n",
    "def get_favT (index, Tmin, Tmax, Tstep):\n",
    "    '''Get a list of temperature dependent phonon band centre values or a single value at given T values'''\n",
    "    favT = []\n",
    "\n",
    "    if ((Tmin != None) and (Tmax == None) and (Tstep == None)):\n",
    "        Temperature = [Tmin]\n",
    "    elif ((Tmin != None) and (Tmax != None) and (Tstep != None)):\n",
    "        Temperature = [*range(Tmin, Tmax, Tstep)]\n",
    "    else:\n",
    "        print(\"Tmin is expected as a value, Tmax and Tstep could be None\")\n",
    "        Temperature = None\n",
    "\n",
    "    Li_f = get_partial_f(index)\n",
    "    Li_d = get_partial_dos(index)\n",
    "\n",
    "    for T in Temperature:\n",
    "        ph_numbers = []\n",
    "        beta = 1/(k*T)\n",
    "        for frequency in Li_f:\n",
    "            if frequency < 0:\n",
    "                ph_numbers.append(1)\n",
    "\n",
    "            else:\n",
    "                energy = frequency * hbar * 10 ** 12\n",
    "                denominator = math.exp(energy*beta) - 1\n",
    "                ph_number = 1/denominator\n",
    "                ph_numbers.append(ph_number)\n",
    "\n",
    "\n",
    "        fav_elements = Li_f * Li_d * ph_numbers\n",
    "        norm_elements = Li_d * ph_numbers\n",
    "\n",
    "        fav = np.sum(fav_elements)\n",
    "        norm = np.sum(norm_elements)\n",
    "        fav = fav / norm\n",
    "        favT.append(fav)\n",
    "\n",
    "    return favT"
   ],
   "metadata": {
    "collapsed": false,
    "pycharm": {
     "name": "#%%\n"
    }
   }
  },
  {
   "cell_type": "markdown",
   "source": [
    "Add an empty column for temperature independent phonon band centre"
   ],
   "metadata": {
    "collapsed": false,
    "pycharm": {
     "name": "#%% md\n"
    }
   }
  },
  {
   "cell_type": "code",
   "execution_count": 81,
   "outputs": [
    {
     "data": {
      "text/plain": "    material_id          elements formula_pretty_reduced           formula  \\\n0      mp-10103   [Li, F, Al, Yb]               LiYbAlF6   Li2 Yb2 Al2 F12   \n1      mp-10182       [Li, P, Zn]                  LiZnP        Li4 Zn4 P4   \n2      mp-10250       [Li, F, Ba]                 BaLiF3        Ba1 Li1 F3   \n3      mp-10251       [Li, O, Dy]                 LiDyO2        Li4 Dy4 O8   \n4      mp-10485      [Li, Sb, Ba]                 BaLiSb       Ba2 Li2 Sb2   \n..          ...               ...                    ...               ...   \n868   mp-989579  [Rb, Li, Tl, Cl]             Rb2LiTlCl6  Rb8 Li4 Tl4 Cl24   \n869   mp-989583  [Rb, Li, In, Cl]             Rb2LiInCl6  Rb8 Li4 In4 Cl24   \n870     mp-9912       [Li, P, Ce]                Li2CeP2        Li2 Ce1 P2   \n871     mp-9915       [Li, Be, P]                  LiBeP        Li2 Be2 P2   \n872     mp-9919      [Li, Zn, Sb]                 LiZnSb       Li2 Zn2 Sb2   \n\n     num_elements      chemsys spacegroup_symbol  spacegroup_number  fav  \n0               4   Al-F-Li-Yb             P-31c                163  NaN  \n1               3      Li-P-Zn             F-43m                216  NaN  \n2               3      Ba-F-Li             Pm-3m                221  NaN  \n3               3      Dy-Li-O            P2_1/c                 14  NaN  \n4               3     Ba-Li-Sb          P6_3/mmc                194  NaN  \n..            ...          ...               ...                ...  ...  \n868             4  Cl-Li-Rb-Tl             Fm-3m                225  NaN  \n869             4  Cl-In-Li-Rb             Fm-3m                225  NaN  \n870             3      Ce-Li-P             P-3m1                164  NaN  \n871             3      Be-Li-P            P4/nmm                129  NaN  \n872             3     Li-Sb-Zn            P6_3mc                186  NaN  \n\n[873 rows x 9 columns]",
      "text/html": "<div>\n<style scoped>\n    .dataframe tbody tr th:only-of-type {\n        vertical-align: middle;\n    }\n\n    .dataframe tbody tr th {\n        vertical-align: top;\n    }\n\n    .dataframe thead th {\n        text-align: right;\n    }\n</style>\n<table border=\"1\" class=\"dataframe\">\n  <thead>\n    <tr style=\"text-align: right;\">\n      <th></th>\n      <th>material_id</th>\n      <th>elements</th>\n      <th>formula_pretty_reduced</th>\n      <th>formula</th>\n      <th>num_elements</th>\n      <th>chemsys</th>\n      <th>spacegroup_symbol</th>\n      <th>spacegroup_number</th>\n      <th>fav</th>\n    </tr>\n  </thead>\n  <tbody>\n    <tr>\n      <th>0</th>\n      <td>mp-10103</td>\n      <td>[Li, F, Al, Yb]</td>\n      <td>LiYbAlF6</td>\n      <td>Li2 Yb2 Al2 F12</td>\n      <td>4</td>\n      <td>Al-F-Li-Yb</td>\n      <td>P-31c</td>\n      <td>163</td>\n      <td>NaN</td>\n    </tr>\n    <tr>\n      <th>1</th>\n      <td>mp-10182</td>\n      <td>[Li, P, Zn]</td>\n      <td>LiZnP</td>\n      <td>Li4 Zn4 P4</td>\n      <td>3</td>\n      <td>Li-P-Zn</td>\n      <td>F-43m</td>\n      <td>216</td>\n      <td>NaN</td>\n    </tr>\n    <tr>\n      <th>2</th>\n      <td>mp-10250</td>\n      <td>[Li, F, Ba]</td>\n      <td>BaLiF3</td>\n      <td>Ba1 Li1 F3</td>\n      <td>3</td>\n      <td>Ba-F-Li</td>\n      <td>Pm-3m</td>\n      <td>221</td>\n      <td>NaN</td>\n    </tr>\n    <tr>\n      <th>3</th>\n      <td>mp-10251</td>\n      <td>[Li, O, Dy]</td>\n      <td>LiDyO2</td>\n      <td>Li4 Dy4 O8</td>\n      <td>3</td>\n      <td>Dy-Li-O</td>\n      <td>P2_1/c</td>\n      <td>14</td>\n      <td>NaN</td>\n    </tr>\n    <tr>\n      <th>4</th>\n      <td>mp-10485</td>\n      <td>[Li, Sb, Ba]</td>\n      <td>BaLiSb</td>\n      <td>Ba2 Li2 Sb2</td>\n      <td>3</td>\n      <td>Ba-Li-Sb</td>\n      <td>P6_3/mmc</td>\n      <td>194</td>\n      <td>NaN</td>\n    </tr>\n    <tr>\n      <th>...</th>\n      <td>...</td>\n      <td>...</td>\n      <td>...</td>\n      <td>...</td>\n      <td>...</td>\n      <td>...</td>\n      <td>...</td>\n      <td>...</td>\n      <td>...</td>\n    </tr>\n    <tr>\n      <th>868</th>\n      <td>mp-989579</td>\n      <td>[Rb, Li, Tl, Cl]</td>\n      <td>Rb2LiTlCl6</td>\n      <td>Rb8 Li4 Tl4 Cl24</td>\n      <td>4</td>\n      <td>Cl-Li-Rb-Tl</td>\n      <td>Fm-3m</td>\n      <td>225</td>\n      <td>NaN</td>\n    </tr>\n    <tr>\n      <th>869</th>\n      <td>mp-989583</td>\n      <td>[Rb, Li, In, Cl]</td>\n      <td>Rb2LiInCl6</td>\n      <td>Rb8 Li4 In4 Cl24</td>\n      <td>4</td>\n      <td>Cl-In-Li-Rb</td>\n      <td>Fm-3m</td>\n      <td>225</td>\n      <td>NaN</td>\n    </tr>\n    <tr>\n      <th>870</th>\n      <td>mp-9912</td>\n      <td>[Li, P, Ce]</td>\n      <td>Li2CeP2</td>\n      <td>Li2 Ce1 P2</td>\n      <td>3</td>\n      <td>Ce-Li-P</td>\n      <td>P-3m1</td>\n      <td>164</td>\n      <td>NaN</td>\n    </tr>\n    <tr>\n      <th>871</th>\n      <td>mp-9915</td>\n      <td>[Li, Be, P]</td>\n      <td>LiBeP</td>\n      <td>Li2 Be2 P2</td>\n      <td>3</td>\n      <td>Be-Li-P</td>\n      <td>P4/nmm</td>\n      <td>129</td>\n      <td>NaN</td>\n    </tr>\n    <tr>\n      <th>872</th>\n      <td>mp-9919</td>\n      <td>[Li, Zn, Sb]</td>\n      <td>LiZnSb</td>\n      <td>Li2 Zn2 Sb2</td>\n      <td>3</td>\n      <td>Li-Sb-Zn</td>\n      <td>P6_3mc</td>\n      <td>186</td>\n      <td>NaN</td>\n    </tr>\n  </tbody>\n</table>\n<p>873 rows × 9 columns</p>\n</div>"
     },
     "execution_count": 81,
     "metadata": {},
     "output_type": "execute_result"
    }
   ],
   "source": [
    "data['fav'] = np.nan\n",
    "data"
   ],
   "metadata": {
    "collapsed": false,
    "pycharm": {
     "name": "#%%\n"
    }
   }
  },
  {
   "cell_type": "markdown",
   "source": [
    "Get temperature independent phonon band centers for all the species"
   ],
   "metadata": {
    "collapsed": false,
    "pycharm": {
     "name": "#%% md\n"
    }
   }
  },
  {
   "cell_type": "code",
   "execution_count": 84,
   "outputs": [],
   "source": [
    "index = [*range (0, data.index[-1]+1)]\n",
    "for i in index:\n",
    "    fav = get_fav(i)\n",
    "    data.at[i,'fav'] = fav"
   ],
   "metadata": {
    "collapsed": false,
    "pycharm": {
     "name": "#%%\n"
    }
   }
  },
  {
   "cell_type": "markdown",
   "source": [
    "Get temperature dependent phonon band center (room temperature) for all the species"
   ],
   "metadata": {
    "collapsed": false,
    "pycharm": {
     "name": "#%% md\n"
    }
   }
  },
  {
   "cell_type": "code",
   "execution_count": 86,
   "outputs": [],
   "source": [
    "Tmin = 298\n",
    "Tmax = None\n",
    "Tstep = None\n",
    "\n",
    "if ((Tmin != None) and (Tmax == None) and (Tstep == None)):\n",
    "    Temperature = [Tmin]\n",
    "elif ((Tmin != None) and (Tmax != None) and (Tstep != None)):\n",
    "    Temperature = [*range(Tmin, Tmax, Tstep)]\n",
    "else:\n",
    "    print(\"Tmin is expected as a value, Tmax and Tstep could be None\")\n",
    "    Temperature = None\n",
    "\n",
    "\n",
    "index = [*range (0, data.index[-1]+1)]\n",
    "T_val = pd.DataFrame(columns = Temperature)\n",
    "for i in index:\n",
    "    favT = get_favT(i, Tmin, Tmax, Tstep)\n",
    "    T_val.loc[i] = favT\n",
    "\n",
    "data = pd.concat([data, T_val], axis = 1)"
   ],
   "metadata": {
    "collapsed": false,
    "pycharm": {
     "name": "#%%\n"
    }
   }
  },
  {
   "cell_type": "markdown",
   "source": [
    "Get temperature dependent phonon band center in a temperature range for all the species, example here using 10 to 1000k with a step of 10k"
   ],
   "metadata": {
    "collapsed": false,
    "pycharm": {
     "name": "#%% md\n"
    }
   }
  },
  {
   "cell_type": "code",
   "execution_count": 87,
   "outputs": [],
   "source": [
    "Tmin = 10\n",
    "Tmax = 1000\n",
    "Tstep = 10\n",
    "\n",
    "if ((Tmin != None) and (Tmax == None) and (Tstep == None)):\n",
    "    Temperature = [Tmin]\n",
    "elif ((Tmin != None) and (Tmax != None) and (Tstep != None)):\n",
    "    Temperature = [*range(Tmin, Tmax, Tstep)]\n",
    "else:\n",
    "    print(\"Tmin is expected as a value, Tmax and Tstep could be None\")\n",
    "    Temperature = None\n",
    "\n",
    "\n",
    "index = [*range (0, data.index[-1]+1)]\n",
    "T_val = pd.DataFrame(columns = Temperature)\n",
    "for i in index:\n",
    "    favT = get_favT(i, Tmin, Tmax, Tstep)\n",
    "    T_val.loc[i] = favT\n",
    "\n",
    "data = pd.concat([data, T_val], axis = 1)\n"
   ],
   "metadata": {
    "collapsed": false,
    "pycharm": {
     "name": "#%%\n"
    }
   }
  },
  {
   "cell_type": "code",
   "execution_count": 35,
   "outputs": [
    {
     "data": {
      "text/plain": "    material_id          elements formula_pretty_reduced           formula  \\\n0      mp-10103   [Li, F, Al, Yb]               LiYbAlF6   Li2 Yb2 Al2 F12   \n1      mp-10182       [Li, P, Zn]                  LiZnP        Li4 Zn4 P4   \n2      mp-10250       [Li, F, Ba]                 BaLiF3        Ba1 Li1 F3   \n3      mp-10251       [Li, O, Dy]                 LiDyO2        Li4 Dy4 O8   \n4      mp-10485      [Li, Sb, Ba]                 BaLiSb       Ba2 Li2 Sb2   \n..          ...               ...                    ...               ...   \n868   mp-989579  [Rb, Li, Tl, Cl]             Rb2LiTlCl6  Rb8 Li4 Tl4 Cl24   \n869   mp-989583  [Rb, Li, In, Cl]             Rb2LiInCl6  Rb8 Li4 In4 Cl24   \n870     mp-9912       [Li, P, Ce]                Li2CeP2        Li2 Ce1 P2   \n871     mp-9915       [Li, Be, P]                  LiBeP        Li2 Be2 P2   \n872     mp-9919      [Li, Zn, Sb]                 LiZnSb       Li2 Zn2 Sb2   \n\n     num_elements      chemsys spacegroup_symbol  spacegroup_number  \\\n0               4   Al-F-Li-Yb             P-31c                163   \n1               3      Li-P-Zn             F-43m                216   \n2               3      Ba-F-Li             Pm-3m                221   \n3               3      Dy-Li-O            P2_1/c                 14   \n4               3     Ba-Li-Sb          P6_3/mmc                194   \n..            ...          ...               ...                ...   \n868             4  Cl-Li-Rb-Tl             Fm-3m                225   \n869             4  Cl-In-Li-Rb             Fm-3m                225   \n870             3      Ce-Li-P             P-3m1                164   \n871             3      Be-Li-P            P4/nmm                129   \n872             3     Li-Sb-Zn            P6_3mc                186   \n\n           fav        298  ...        900        910        920        930  \\\n0    11.477275  10.187487  ...  10.294750  10.295315  10.295867  10.296407   \n1    10.767147   9.834405  ...   9.909935   9.910330   9.910717   9.911096   \n2     7.149976   6.155540  ...   6.206074   6.206345   6.206610   6.206870   \n3    11.573993   8.612673  ...   8.822861   8.823985   8.825086   8.826162   \n4     2.543602   2.224327  ...   2.230293   2.230325   2.230357   2.230388   \n..         ...        ...  ...        ...        ...        ...        ...   \n868   6.337484   5.903504  ...   5.925654   5.925772   5.925886   5.925998   \n869   6.227338   5.675781  ...   5.702292   5.702432   5.702569   5.702704   \n870   9.743440   9.099472  ...   9.147794   9.148047   9.148295   9.148538   \n871   8.642599   8.046354  ...   8.085366   8.085574   8.085777   8.085976   \n872   6.350430   5.743140  ...   5.772318   5.772474   5.772626   5.772774   \n\n           940        950        960        970        980        990  \n0    10.296935  10.297452  10.297958  10.298454  10.298939  10.299414  \n1     9.911466   9.911828   9.912183   9.912530   9.912870   9.913203  \n2     6.207124   6.207372   6.207615   6.207853   6.208087   6.208315  \n3     8.827215   8.828246   8.829255   8.830243   8.831211   8.832159  \n4     2.230418   2.230448   2.230477   2.230505   2.230533   2.230561  \n..         ...        ...        ...        ...        ...        ...  \n868   5.926108   5.926215   5.926320   5.926423   5.926523   5.926622  \n869   5.702835   5.702964   5.703089   5.703213   5.703333   5.703451  \n870   9.148775   9.149008   9.149235   9.149458   9.149676   9.149890  \n871   8.086170   8.086361   8.086547   8.086730   8.086909   8.087084  \n872   5.772920   5.773062   5.773202   5.773338   5.773472   5.773603  \n\n[873 rows x 110 columns]",
      "text/html": "<div>\n<style scoped>\n    .dataframe tbody tr th:only-of-type {\n        vertical-align: middle;\n    }\n\n    .dataframe tbody tr th {\n        vertical-align: top;\n    }\n\n    .dataframe thead th {\n        text-align: right;\n    }\n</style>\n<table border=\"1\" class=\"dataframe\">\n  <thead>\n    <tr style=\"text-align: right;\">\n      <th></th>\n      <th>material_id</th>\n      <th>elements</th>\n      <th>formula_pretty_reduced</th>\n      <th>formula</th>\n      <th>num_elements</th>\n      <th>chemsys</th>\n      <th>spacegroup_symbol</th>\n      <th>spacegroup_number</th>\n      <th>fav</th>\n      <th>298</th>\n      <th>...</th>\n      <th>900</th>\n      <th>910</th>\n      <th>920</th>\n      <th>930</th>\n      <th>940</th>\n      <th>950</th>\n      <th>960</th>\n      <th>970</th>\n      <th>980</th>\n      <th>990</th>\n    </tr>\n  </thead>\n  <tbody>\n    <tr>\n      <th>0</th>\n      <td>mp-10103</td>\n      <td>[Li, F, Al, Yb]</td>\n      <td>LiYbAlF6</td>\n      <td>Li2 Yb2 Al2 F12</td>\n      <td>4</td>\n      <td>Al-F-Li-Yb</td>\n      <td>P-31c</td>\n      <td>163</td>\n      <td>11.477275</td>\n      <td>10.187487</td>\n      <td>...</td>\n      <td>10.294750</td>\n      <td>10.295315</td>\n      <td>10.295867</td>\n      <td>10.296407</td>\n      <td>10.296935</td>\n      <td>10.297452</td>\n      <td>10.297958</td>\n      <td>10.298454</td>\n      <td>10.298939</td>\n      <td>10.299414</td>\n    </tr>\n    <tr>\n      <th>1</th>\n      <td>mp-10182</td>\n      <td>[Li, P, Zn]</td>\n      <td>LiZnP</td>\n      <td>Li4 Zn4 P4</td>\n      <td>3</td>\n      <td>Li-P-Zn</td>\n      <td>F-43m</td>\n      <td>216</td>\n      <td>10.767147</td>\n      <td>9.834405</td>\n      <td>...</td>\n      <td>9.909935</td>\n      <td>9.910330</td>\n      <td>9.910717</td>\n      <td>9.911096</td>\n      <td>9.911466</td>\n      <td>9.911828</td>\n      <td>9.912183</td>\n      <td>9.912530</td>\n      <td>9.912870</td>\n      <td>9.913203</td>\n    </tr>\n    <tr>\n      <th>2</th>\n      <td>mp-10250</td>\n      <td>[Li, F, Ba]</td>\n      <td>BaLiF3</td>\n      <td>Ba1 Li1 F3</td>\n      <td>3</td>\n      <td>Ba-F-Li</td>\n      <td>Pm-3m</td>\n      <td>221</td>\n      <td>7.149976</td>\n      <td>6.155540</td>\n      <td>...</td>\n      <td>6.206074</td>\n      <td>6.206345</td>\n      <td>6.206610</td>\n      <td>6.206870</td>\n      <td>6.207124</td>\n      <td>6.207372</td>\n      <td>6.207615</td>\n      <td>6.207853</td>\n      <td>6.208087</td>\n      <td>6.208315</td>\n    </tr>\n    <tr>\n      <th>3</th>\n      <td>mp-10251</td>\n      <td>[Li, O, Dy]</td>\n      <td>LiDyO2</td>\n      <td>Li4 Dy4 O8</td>\n      <td>3</td>\n      <td>Dy-Li-O</td>\n      <td>P2_1/c</td>\n      <td>14</td>\n      <td>11.573993</td>\n      <td>8.612673</td>\n      <td>...</td>\n      <td>8.822861</td>\n      <td>8.823985</td>\n      <td>8.825086</td>\n      <td>8.826162</td>\n      <td>8.827215</td>\n      <td>8.828246</td>\n      <td>8.829255</td>\n      <td>8.830243</td>\n      <td>8.831211</td>\n      <td>8.832159</td>\n    </tr>\n    <tr>\n      <th>4</th>\n      <td>mp-10485</td>\n      <td>[Li, Sb, Ba]</td>\n      <td>BaLiSb</td>\n      <td>Ba2 Li2 Sb2</td>\n      <td>3</td>\n      <td>Ba-Li-Sb</td>\n      <td>P6_3/mmc</td>\n      <td>194</td>\n      <td>2.543602</td>\n      <td>2.224327</td>\n      <td>...</td>\n      <td>2.230293</td>\n      <td>2.230325</td>\n      <td>2.230357</td>\n      <td>2.230388</td>\n      <td>2.230418</td>\n      <td>2.230448</td>\n      <td>2.230477</td>\n      <td>2.230505</td>\n      <td>2.230533</td>\n      <td>2.230561</td>\n    </tr>\n    <tr>\n      <th>...</th>\n      <td>...</td>\n      <td>...</td>\n      <td>...</td>\n      <td>...</td>\n      <td>...</td>\n      <td>...</td>\n      <td>...</td>\n      <td>...</td>\n      <td>...</td>\n      <td>...</td>\n      <td>...</td>\n      <td>...</td>\n      <td>...</td>\n      <td>...</td>\n      <td>...</td>\n      <td>...</td>\n      <td>...</td>\n      <td>...</td>\n      <td>...</td>\n      <td>...</td>\n      <td>...</td>\n    </tr>\n    <tr>\n      <th>868</th>\n      <td>mp-989579</td>\n      <td>[Rb, Li, Tl, Cl]</td>\n      <td>Rb2LiTlCl6</td>\n      <td>Rb8 Li4 Tl4 Cl24</td>\n      <td>4</td>\n      <td>Cl-Li-Rb-Tl</td>\n      <td>Fm-3m</td>\n      <td>225</td>\n      <td>6.337484</td>\n      <td>5.903504</td>\n      <td>...</td>\n      <td>5.925654</td>\n      <td>5.925772</td>\n      <td>5.925886</td>\n      <td>5.925998</td>\n      <td>5.926108</td>\n      <td>5.926215</td>\n      <td>5.926320</td>\n      <td>5.926423</td>\n      <td>5.926523</td>\n      <td>5.926622</td>\n    </tr>\n    <tr>\n      <th>869</th>\n      <td>mp-989583</td>\n      <td>[Rb, Li, In, Cl]</td>\n      <td>Rb2LiInCl6</td>\n      <td>Rb8 Li4 In4 Cl24</td>\n      <td>4</td>\n      <td>Cl-In-Li-Rb</td>\n      <td>Fm-3m</td>\n      <td>225</td>\n      <td>6.227338</td>\n      <td>5.675781</td>\n      <td>...</td>\n      <td>5.702292</td>\n      <td>5.702432</td>\n      <td>5.702569</td>\n      <td>5.702704</td>\n      <td>5.702835</td>\n      <td>5.702964</td>\n      <td>5.703089</td>\n      <td>5.703213</td>\n      <td>5.703333</td>\n      <td>5.703451</td>\n    </tr>\n    <tr>\n      <th>870</th>\n      <td>mp-9912</td>\n      <td>[Li, P, Ce]</td>\n      <td>Li2CeP2</td>\n      <td>Li2 Ce1 P2</td>\n      <td>3</td>\n      <td>Ce-Li-P</td>\n      <td>P-3m1</td>\n      <td>164</td>\n      <td>9.743440</td>\n      <td>9.099472</td>\n      <td>...</td>\n      <td>9.147794</td>\n      <td>9.148047</td>\n      <td>9.148295</td>\n      <td>9.148538</td>\n      <td>9.148775</td>\n      <td>9.149008</td>\n      <td>9.149235</td>\n      <td>9.149458</td>\n      <td>9.149676</td>\n      <td>9.149890</td>\n    </tr>\n    <tr>\n      <th>871</th>\n      <td>mp-9915</td>\n      <td>[Li, Be, P]</td>\n      <td>LiBeP</td>\n      <td>Li2 Be2 P2</td>\n      <td>3</td>\n      <td>Be-Li-P</td>\n      <td>P4/nmm</td>\n      <td>129</td>\n      <td>8.642599</td>\n      <td>8.046354</td>\n      <td>...</td>\n      <td>8.085366</td>\n      <td>8.085574</td>\n      <td>8.085777</td>\n      <td>8.085976</td>\n      <td>8.086170</td>\n      <td>8.086361</td>\n      <td>8.086547</td>\n      <td>8.086730</td>\n      <td>8.086909</td>\n      <td>8.087084</td>\n    </tr>\n    <tr>\n      <th>872</th>\n      <td>mp-9919</td>\n      <td>[Li, Zn, Sb]</td>\n      <td>LiZnSb</td>\n      <td>Li2 Zn2 Sb2</td>\n      <td>3</td>\n      <td>Li-Sb-Zn</td>\n      <td>P6_3mc</td>\n      <td>186</td>\n      <td>6.350430</td>\n      <td>5.743140</td>\n      <td>...</td>\n      <td>5.772318</td>\n      <td>5.772474</td>\n      <td>5.772626</td>\n      <td>5.772774</td>\n      <td>5.772920</td>\n      <td>5.773062</td>\n      <td>5.773202</td>\n      <td>5.773338</td>\n      <td>5.773472</td>\n      <td>5.773603</td>\n    </tr>\n  </tbody>\n</table>\n<p>873 rows × 110 columns</p>\n</div>"
     },
     "execution_count": 35,
     "metadata": {},
     "output_type": "execute_result"
    }
   ],
   "source": [
    "data"
   ],
   "metadata": {
    "collapsed": false,
    "pycharm": {
     "name": "#%%\n"
    }
   }
  },
  {
   "cell_type": "markdown",
   "source": [
    "**First frequency that has non-zero Li DOS**"
   ],
   "metadata": {
    "collapsed": false,
    "pycharm": {
     "name": "#%% md\n"
    }
   }
  },
  {
   "cell_type": "markdown",
   "source": [
    "(i) ignore imaginary"
   ],
   "metadata": {
    "collapsed": false,
    "pycharm": {
     "name": "#%% md\n"
    }
   }
  },
  {
   "cell_type": "code",
   "execution_count": 89,
   "outputs": [],
   "source": [
    "def first_f_i (index):\n",
    "    '''get first frequency that has non-zero Li DOS and non-imaginary '''\n",
    "    Li_f = get_partial_f(index)\n",
    "    Li_d = get_partial_dos(index)\n",
    "    df = pd.DataFrame({'Li_f': Li_f, 'Li_d': Li_d})\n",
    "    df = df[(df['Li_d'] > 0)&(df['Li_f']> 0)]\n",
    "    df = df.reset_index()\n",
    "    f = df.loc[0,'Li_f']\n",
    "    return f"
   ],
   "metadata": {
    "collapsed": false,
    "pycharm": {
     "name": "#%%\n"
    }
   }
  },
  {
   "cell_type": "markdown",
   "source": [
    "Add an empty column for output"
   ],
   "metadata": {
    "collapsed": false,
    "pycharm": {
     "name": "#%% md\n"
    }
   }
  },
  {
   "cell_type": "code",
   "execution_count": 90,
   "outputs": [],
   "source": [
    "data['first_f_i'] = np.nan"
   ],
   "metadata": {
    "collapsed": false,
    "pycharm": {
     "name": "#%%\n"
    }
   }
  },
  {
   "cell_type": "markdown",
   "source": [
    "Write first frequency data (ignore imaginary)"
   ],
   "metadata": {
    "collapsed": false,
    "pycharm": {
     "name": "#%% md\n"
    }
   }
  },
  {
   "cell_type": "code",
   "execution_count": 91,
   "outputs": [],
   "source": [
    "index = [*range (0, data.index[-1]+1)]\n",
    "for i in index:\n",
    "    f = first_f_i(i)\n",
    "    data.at[i,'first_f_i'] = f"
   ],
   "metadata": {
    "collapsed": false,
    "pycharm": {
     "name": "#%%\n"
    }
   }
  },
  {
   "cell_type": "markdown",
   "source": [
    "(ii) take the absolute value"
   ],
   "metadata": {
    "collapsed": false,
    "pycharm": {
     "name": "#%% md\n"
    }
   }
  },
  {
   "cell_type": "code",
   "execution_count": 92,
   "outputs": [],
   "source": [
    "def first_f_a (index):\n",
    "    '''get first frequency (absolute) that has non-zero Li DOS'''\n",
    "    Li_f = get_partial_f(index)\n",
    "    Li_d = get_partial_dos(index)\n",
    "    Li_f = abs(Li_f)\n",
    "    key = np.nonzero(Li_d)[0][0]\n",
    "    f = Li_f[key]\n",
    "    return f"
   ],
   "metadata": {
    "collapsed": false,
    "pycharm": {
     "name": "#%%\n"
    }
   }
  },
  {
   "cell_type": "markdown",
   "source": [
    "Add an empty column for output"
   ],
   "metadata": {
    "collapsed": false,
    "pycharm": {
     "name": "#%% md\n"
    }
   }
  },
  {
   "cell_type": "code",
   "execution_count": 93,
   "outputs": [],
   "source": [
    "data['first_f_a'] = np.nan"
   ],
   "metadata": {
    "collapsed": false,
    "pycharm": {
     "name": "#%%\n"
    }
   }
  },
  {
   "cell_type": "markdown",
   "source": [
    "Write first frequency data (Take absolute values for imaginary frequencies)"
   ],
   "metadata": {
    "collapsed": false,
    "pycharm": {
     "name": "#%% md\n"
    }
   }
  },
  {
   "cell_type": "code",
   "execution_count": 94,
   "outputs": [],
   "source": [
    "index = [*range (0, data.index[-1]+1)]\n",
    "for i in index:\n",
    "    f = first_f_a(i)\n",
    "    data.at[i,'first_f_a'] = f"
   ],
   "metadata": {
    "collapsed": false,
    "pycharm": {
     "name": "#%%\n"
    }
   }
  },
  {
   "cell_type": "markdown",
   "source": [
    "Li DOS width relative to the total width"
   ],
   "metadata": {
    "collapsed": false,
    "pycharm": {
     "name": "#%% md\n"
    }
   }
  },
  {
   "cell_type": "code",
   "execution_count": 95,
   "outputs": [],
   "source": [
    "def relative_w (index):\n",
    "    '''get Li DOS width relative to the total width'''\n",
    "\n",
    "    total_f = get_total_f(index)\n",
    "    total_d = get_total_dos(index)\n",
    "    Li_f = get_partial_f(index)\n",
    "    Li_d = get_partial_dos(index)\n",
    "\n",
    "    df_1 = pd.DataFrame({'total_f': total_f, 'total_d': total_d})\n",
    "    f_1 = df_1.loc[0,'total_f']\n",
    "    f_2 = df_1.iloc[-1].loc['total_f']\n",
    "    total_f_d = f_2 - f_1\n",
    "\n",
    "    df_2 = pd.DataFrame({'Li_f': Li_f, 'Li_d': Li_d})\n",
    "    f_1 = df_2.loc[0,'Li_f']\n",
    "    f_2 = df_2.iloc[-1].loc['Li_f']\n",
    "    Li_f_d = f_2 - f_1\n",
    "\n",
    "    relative_w = Li_f_d / total_f_d\n",
    "\n",
    "    return relative_w"
   ],
   "metadata": {
    "collapsed": false,
    "pycharm": {
     "name": "#%%\n"
    }
   }
  },
  {
   "cell_type": "markdown",
   "source": [
    "Add an empty column for output"
   ],
   "metadata": {
    "collapsed": false,
    "pycharm": {
     "name": "#%% md\n"
    }
   }
  },
  {
   "cell_type": "code",
   "execution_count": 96,
   "outputs": [],
   "source": [
    "data['relative_w'] = np.nan"
   ],
   "metadata": {
    "collapsed": false,
    "pycharm": {
     "name": "#%%\n"
    }
   }
  },
  {
   "cell_type": "markdown",
   "source": [
    "Write relative width"
   ],
   "metadata": {
    "collapsed": false,
    "pycharm": {
     "name": "#%% md\n"
    }
   }
  },
  {
   "cell_type": "code",
   "execution_count": 97,
   "outputs": [
    {
     "name": "stderr",
     "output_type": "stream",
     "text": [
      "C:\\Users\\Amelia\\AppData\\Local\\Temp\\ipykernel_18256\\1682977388.py:4: SettingWithCopyWarning: \n",
      "A value is trying to be set on a copy of a slice from a DataFrame\n",
      "\n",
      "See the caveats in the documentation: https://pandas.pydata.org/pandas-docs/stable/user_guide/indexing.html#returning-a-view-versus-a-copy\n",
      "  data['relative_w'][i] = w\n"
     ]
    }
   ],
   "source": [
    "index = [*range (0, data.index[-1]+1)]\n",
    "for i in index:\n",
    "    w = relative_w(i)\n",
    "    data['relative_w'][i] = w"
   ],
   "metadata": {
    "collapsed": false,
    "pycharm": {
     "name": "#%%\n"
    }
   }
  },
  {
   "cell_type": "code",
   "execution_count": 98,
   "outputs": [
    {
     "data": {
      "text/plain": "    material_id          elements formula_pretty_reduced           formula  \\\n0      mp-10103   [Li, F, Al, Yb]               LiYbAlF6   Li2 Yb2 Al2 F12   \n1      mp-10182       [Li, P, Zn]                  LiZnP        Li4 Zn4 P4   \n2      mp-10250       [Li, F, Ba]                 BaLiF3        Ba1 Li1 F3   \n3      mp-10251       [Li, O, Dy]                 LiDyO2        Li4 Dy4 O8   \n4      mp-10485      [Li, Sb, Ba]                 BaLiSb       Ba2 Li2 Sb2   \n..          ...               ...                    ...               ...   \n868   mp-989579  [Rb, Li, Tl, Cl]             Rb2LiTlCl6  Rb8 Li4 Tl4 Cl24   \n869   mp-989583  [Rb, Li, In, Cl]             Rb2LiInCl6  Rb8 Li4 In4 Cl24   \n870     mp-9912       [Li, P, Ce]                Li2CeP2        Li2 Ce1 P2   \n871     mp-9915       [Li, Be, P]                  LiBeP        Li2 Be2 P2   \n872     mp-9919      [Li, Zn, Sb]                 LiZnSb       Li2 Zn2 Sb2   \n\n     num_elements      chemsys spacegroup_symbol  spacegroup_number  \\\n0               4   Al-F-Li-Yb             P-31c                163   \n1               3      Li-P-Zn             F-43m                216   \n2               3      Ba-F-Li             Pm-3m                221   \n3               3      Dy-Li-O            P2_1/c                 14   \n4               3     Ba-Li-Sb          P6_3/mmc                194   \n..            ...          ...               ...                ...   \n868             4  Cl-Li-Rb-Tl             Fm-3m                225   \n869             4  Cl-In-Li-Rb             Fm-3m                225   \n870             3      Ce-Li-P             P-3m1                164   \n871             3      Be-Li-P            P4/nmm                129   \n872             3     Li-Sb-Zn            P6_3mc                186   \n\n           fav        298  ...        930        940        950        960  \\\n0    11.477275  10.187487  ...  10.296407  10.296935  10.297452  10.297958   \n1    10.767147   9.834405  ...   9.911096   9.911466   9.911828   9.912183   \n2     7.149976   6.155540  ...   6.206870   6.207124   6.207372   6.207615   \n3    11.573993   8.612673  ...   8.826162   8.827215   8.828246   8.829255   \n4     2.543602   2.224327  ...   2.230388   2.230418   2.230448   2.230477   \n..         ...        ...  ...        ...        ...        ...        ...   \n868   6.337484   5.903504  ...   5.925998   5.926108   5.926215   5.926320   \n869   6.227338   5.675781  ...   5.702704   5.702835   5.702964   5.703089   \n870   9.743440   9.099472  ...   9.148538   9.148775   9.149008   9.149235   \n871   8.642599   8.046354  ...   8.085976   8.086170   8.086361   8.086547   \n872   6.350430   5.743140  ...   5.772774   5.772920   5.773062   5.773202   \n\n           970        980        990  first_f_i  first_f_a  relative_w  \n0    10.298454  10.298939  10.299414   0.042794   0.042794         1.0  \n1     9.912530   9.912870   9.913203   0.025242   0.025242         1.0  \n2     6.207853   6.208087   6.208315   0.030784   0.030784         1.0  \n3     8.830243   8.831211   8.832159   0.084645   0.678670         1.0  \n4     2.230505   2.230533   2.230561   0.020693   0.020693         1.0  \n..         ...        ...        ...        ...        ...         ...  \n868   5.926423   5.926523   5.926622   0.027749   1.153376         1.0  \n869   5.703213   5.703333   5.703451   0.000556   0.735833         1.0  \n870   9.149458   9.149676   9.149890   0.024268   0.024268         1.0  \n871   8.086730   8.086909   8.087084   0.038148   0.038148         1.0  \n872   5.773338   5.773472   5.773603   0.017381   0.017381         1.0  \n\n[873 rows x 112 columns]",
      "text/html": "<div>\n<style scoped>\n    .dataframe tbody tr th:only-of-type {\n        vertical-align: middle;\n    }\n\n    .dataframe tbody tr th {\n        vertical-align: top;\n    }\n\n    .dataframe thead th {\n        text-align: right;\n    }\n</style>\n<table border=\"1\" class=\"dataframe\">\n  <thead>\n    <tr style=\"text-align: right;\">\n      <th></th>\n      <th>material_id</th>\n      <th>elements</th>\n      <th>formula_pretty_reduced</th>\n      <th>formula</th>\n      <th>num_elements</th>\n      <th>chemsys</th>\n      <th>spacegroup_symbol</th>\n      <th>spacegroup_number</th>\n      <th>fav</th>\n      <th>298</th>\n      <th>...</th>\n      <th>930</th>\n      <th>940</th>\n      <th>950</th>\n      <th>960</th>\n      <th>970</th>\n      <th>980</th>\n      <th>990</th>\n      <th>first_f_i</th>\n      <th>first_f_a</th>\n      <th>relative_w</th>\n    </tr>\n  </thead>\n  <tbody>\n    <tr>\n      <th>0</th>\n      <td>mp-10103</td>\n      <td>[Li, F, Al, Yb]</td>\n      <td>LiYbAlF6</td>\n      <td>Li2 Yb2 Al2 F12</td>\n      <td>4</td>\n      <td>Al-F-Li-Yb</td>\n      <td>P-31c</td>\n      <td>163</td>\n      <td>11.477275</td>\n      <td>10.187487</td>\n      <td>...</td>\n      <td>10.296407</td>\n      <td>10.296935</td>\n      <td>10.297452</td>\n      <td>10.297958</td>\n      <td>10.298454</td>\n      <td>10.298939</td>\n      <td>10.299414</td>\n      <td>0.042794</td>\n      <td>0.042794</td>\n      <td>1.0</td>\n    </tr>\n    <tr>\n      <th>1</th>\n      <td>mp-10182</td>\n      <td>[Li, P, Zn]</td>\n      <td>LiZnP</td>\n      <td>Li4 Zn4 P4</td>\n      <td>3</td>\n      <td>Li-P-Zn</td>\n      <td>F-43m</td>\n      <td>216</td>\n      <td>10.767147</td>\n      <td>9.834405</td>\n      <td>...</td>\n      <td>9.911096</td>\n      <td>9.911466</td>\n      <td>9.911828</td>\n      <td>9.912183</td>\n      <td>9.912530</td>\n      <td>9.912870</td>\n      <td>9.913203</td>\n      <td>0.025242</td>\n      <td>0.025242</td>\n      <td>1.0</td>\n    </tr>\n    <tr>\n      <th>2</th>\n      <td>mp-10250</td>\n      <td>[Li, F, Ba]</td>\n      <td>BaLiF3</td>\n      <td>Ba1 Li1 F3</td>\n      <td>3</td>\n      <td>Ba-F-Li</td>\n      <td>Pm-3m</td>\n      <td>221</td>\n      <td>7.149976</td>\n      <td>6.155540</td>\n      <td>...</td>\n      <td>6.206870</td>\n      <td>6.207124</td>\n      <td>6.207372</td>\n      <td>6.207615</td>\n      <td>6.207853</td>\n      <td>6.208087</td>\n      <td>6.208315</td>\n      <td>0.030784</td>\n      <td>0.030784</td>\n      <td>1.0</td>\n    </tr>\n    <tr>\n      <th>3</th>\n      <td>mp-10251</td>\n      <td>[Li, O, Dy]</td>\n      <td>LiDyO2</td>\n      <td>Li4 Dy4 O8</td>\n      <td>3</td>\n      <td>Dy-Li-O</td>\n      <td>P2_1/c</td>\n      <td>14</td>\n      <td>11.573993</td>\n      <td>8.612673</td>\n      <td>...</td>\n      <td>8.826162</td>\n      <td>8.827215</td>\n      <td>8.828246</td>\n      <td>8.829255</td>\n      <td>8.830243</td>\n      <td>8.831211</td>\n      <td>8.832159</td>\n      <td>0.084645</td>\n      <td>0.678670</td>\n      <td>1.0</td>\n    </tr>\n    <tr>\n      <th>4</th>\n      <td>mp-10485</td>\n      <td>[Li, Sb, Ba]</td>\n      <td>BaLiSb</td>\n      <td>Ba2 Li2 Sb2</td>\n      <td>3</td>\n      <td>Ba-Li-Sb</td>\n      <td>P6_3/mmc</td>\n      <td>194</td>\n      <td>2.543602</td>\n      <td>2.224327</td>\n      <td>...</td>\n      <td>2.230388</td>\n      <td>2.230418</td>\n      <td>2.230448</td>\n      <td>2.230477</td>\n      <td>2.230505</td>\n      <td>2.230533</td>\n      <td>2.230561</td>\n      <td>0.020693</td>\n      <td>0.020693</td>\n      <td>1.0</td>\n    </tr>\n    <tr>\n      <th>...</th>\n      <td>...</td>\n      <td>...</td>\n      <td>...</td>\n      <td>...</td>\n      <td>...</td>\n      <td>...</td>\n      <td>...</td>\n      <td>...</td>\n      <td>...</td>\n      <td>...</td>\n      <td>...</td>\n      <td>...</td>\n      <td>...</td>\n      <td>...</td>\n      <td>...</td>\n      <td>...</td>\n      <td>...</td>\n      <td>...</td>\n      <td>...</td>\n      <td>...</td>\n      <td>...</td>\n    </tr>\n    <tr>\n      <th>868</th>\n      <td>mp-989579</td>\n      <td>[Rb, Li, Tl, Cl]</td>\n      <td>Rb2LiTlCl6</td>\n      <td>Rb8 Li4 Tl4 Cl24</td>\n      <td>4</td>\n      <td>Cl-Li-Rb-Tl</td>\n      <td>Fm-3m</td>\n      <td>225</td>\n      <td>6.337484</td>\n      <td>5.903504</td>\n      <td>...</td>\n      <td>5.925998</td>\n      <td>5.926108</td>\n      <td>5.926215</td>\n      <td>5.926320</td>\n      <td>5.926423</td>\n      <td>5.926523</td>\n      <td>5.926622</td>\n      <td>0.027749</td>\n      <td>1.153376</td>\n      <td>1.0</td>\n    </tr>\n    <tr>\n      <th>869</th>\n      <td>mp-989583</td>\n      <td>[Rb, Li, In, Cl]</td>\n      <td>Rb2LiInCl6</td>\n      <td>Rb8 Li4 In4 Cl24</td>\n      <td>4</td>\n      <td>Cl-In-Li-Rb</td>\n      <td>Fm-3m</td>\n      <td>225</td>\n      <td>6.227338</td>\n      <td>5.675781</td>\n      <td>...</td>\n      <td>5.702704</td>\n      <td>5.702835</td>\n      <td>5.702964</td>\n      <td>5.703089</td>\n      <td>5.703213</td>\n      <td>5.703333</td>\n      <td>5.703451</td>\n      <td>0.000556</td>\n      <td>0.735833</td>\n      <td>1.0</td>\n    </tr>\n    <tr>\n      <th>870</th>\n      <td>mp-9912</td>\n      <td>[Li, P, Ce]</td>\n      <td>Li2CeP2</td>\n      <td>Li2 Ce1 P2</td>\n      <td>3</td>\n      <td>Ce-Li-P</td>\n      <td>P-3m1</td>\n      <td>164</td>\n      <td>9.743440</td>\n      <td>9.099472</td>\n      <td>...</td>\n      <td>9.148538</td>\n      <td>9.148775</td>\n      <td>9.149008</td>\n      <td>9.149235</td>\n      <td>9.149458</td>\n      <td>9.149676</td>\n      <td>9.149890</td>\n      <td>0.024268</td>\n      <td>0.024268</td>\n      <td>1.0</td>\n    </tr>\n    <tr>\n      <th>871</th>\n      <td>mp-9915</td>\n      <td>[Li, Be, P]</td>\n      <td>LiBeP</td>\n      <td>Li2 Be2 P2</td>\n      <td>3</td>\n      <td>Be-Li-P</td>\n      <td>P4/nmm</td>\n      <td>129</td>\n      <td>8.642599</td>\n      <td>8.046354</td>\n      <td>...</td>\n      <td>8.085976</td>\n      <td>8.086170</td>\n      <td>8.086361</td>\n      <td>8.086547</td>\n      <td>8.086730</td>\n      <td>8.086909</td>\n      <td>8.087084</td>\n      <td>0.038148</td>\n      <td>0.038148</td>\n      <td>1.0</td>\n    </tr>\n    <tr>\n      <th>872</th>\n      <td>mp-9919</td>\n      <td>[Li, Zn, Sb]</td>\n      <td>LiZnSb</td>\n      <td>Li2 Zn2 Sb2</td>\n      <td>3</td>\n      <td>Li-Sb-Zn</td>\n      <td>P6_3mc</td>\n      <td>186</td>\n      <td>6.350430</td>\n      <td>5.743140</td>\n      <td>...</td>\n      <td>5.772774</td>\n      <td>5.772920</td>\n      <td>5.773062</td>\n      <td>5.773202</td>\n      <td>5.773338</td>\n      <td>5.773472</td>\n      <td>5.773603</td>\n      <td>0.017381</td>\n      <td>0.017381</td>\n      <td>1.0</td>\n    </tr>\n  </tbody>\n</table>\n<p>873 rows × 112 columns</p>\n</div>"
     },
     "execution_count": 98,
     "metadata": {},
     "output_type": "execute_result"
    }
   ],
   "source": [
    "data"
   ],
   "metadata": {
    "collapsed": false,
    "pycharm": {
     "name": "#%%\n"
    }
   }
  },
  {
   "cell_type": "markdown",
   "source": [
    "Write the result dataframe into a csv file"
   ],
   "metadata": {
    "collapsed": false,
    "pycharm": {
     "name": "#%% md\n"
    }
   }
  },
  {
   "cell_type": "code",
   "execution_count": 99,
   "outputs": [],
   "source": [
    "data.to_csv('data_big.csv')"
   ],
   "metadata": {
    "collapsed": false,
    "pycharm": {
     "name": "#%%\n"
    }
   }
  }
 ],
 "metadata": {
  "kernelspec": {
   "display_name": "Python 3 (ipykernel)",
   "language": "python",
   "name": "python3"
  },
  "language_info": {
   "codemirror_mode": {
    "name": "ipython",
    "version": 3
   },
   "file_extension": ".py",
   "mimetype": "text/x-python",
   "name": "python",
   "nbconvert_exporter": "python",
   "pygments_lexer": "ipython3",
   "version": "3.9.12"
  }
 },
 "nbformat": 4,
 "nbformat_minor": 5
}